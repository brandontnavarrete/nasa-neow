{
 "cells": [
  {
   "cell_type": "code",
   "execution_count": 1,
   "id": "ae1ee4d7",
   "metadata": {},
   "outputs": [],
   "source": [
    "import pandas as pd\n",
    "import numpy as np\n",
    "import os\n",
    "import math\n",
    "\n",
    "# visuals\n",
    "import matplotlib.pyplot as plt\n",
    "\n",
    "import seaborn as sns\n",
    "from seaborn import heatmap\n",
    "\n",
    "# .py files\n",
    "import wrangle as wr\n",
    "\n",
    "from sklearn.metrics import confusion_matrix\n",
    "from sklearn.metrics import plot_confusion_matrix\n"
   ]
  },
  {
   "cell_type": "code",
   "execution_count": 2,
   "id": "4b48ba34",
   "metadata": {},
   "outputs": [],
   "source": [
    "\n",
    "import xgboost\n",
    "\n",
    "\n",
    "import matplotlib.pyplot as plt\n",
    "%matplotlib inline\n",
    "import seaborn as sns\n",
    "from seaborn import heatmap\n",
    "import scipy.stats as stats\n",
    "from scipy.stats import mannwhitneyu\n",
    "import statistics\n",
    "\n",
    "\n",
    "import xgboost as xgb\n",
    "from sklearn.metrics import mean_squared_error\n",
    "\n",
    "# data split\n",
    "from sklearn.model_selection import train_test_split\n",
    "\n",
    "# sklearn metrics\n",
    "from sklearn.metrics import accuracy_score, precision_score,recall_score\n",
    "\n",
    "\n",
    "import sklearn.preprocessing\n",
    "from sklearn.tree import DecisionTreeClassifier\n",
    "\n",
    "# Decision Tree\n",
    "from sklearn.ensemble import RandomForestClassifier\n",
    "from sklearn.metrics import classification_report\n",
    "from sklearn.metrics import confusion_matrix\n",
    "\n",
    "# KNN\n",
    "from sklearn.neighbors import KNeighborsClassifier\n",
    "\n",
    "# Logistic Regression\n",
    "from sklearn.linear_model import LogisticRegression\n",
    "\n",
    "import warnings\n",
    "warnings.filterwarnings(\"ignore\")"
   ]
  },
  {
   "cell_type": "markdown",
   "id": "fad97be7",
   "metadata": {},
   "source": [
    "# importing data"
   ]
  },
  {
   "cell_type": "code",
   "execution_count": 3,
   "id": "ffad7dcd",
   "metadata": {},
   "outputs": [],
   "source": [
    "df = pd.read_csv('neo_v2.csv')"
   ]
  },
  {
   "cell_type": "markdown",
   "id": "9c6a8e7e",
   "metadata": {},
   "source": [
    "# checking data and prepping"
   ]
  },
  {
   "cell_type": "code",
   "execution_count": 4,
   "id": "7269d053",
   "metadata": {},
   "outputs": [],
   "source": [
    "# they all orbit earth\n",
    "df = df.drop(columns = 'orbiting_body')"
   ]
  },
  {
   "cell_type": "code",
   "execution_count": 5,
   "id": "cae8a140",
   "metadata": {},
   "outputs": [],
   "source": [
    "# these are all exlcuded from the sentry automated collison monitoring system\n",
    "df = df.drop(columns = 'sentry_object')"
   ]
  },
  {
   "cell_type": "code",
   "execution_count": 6,
   "id": "43027b2f",
   "metadata": {},
   "outputs": [
    {
     "data": {
      "text/html": [
       "<div>\n",
       "<style scoped>\n",
       "    .dataframe tbody tr th:only-of-type {\n",
       "        vertical-align: middle;\n",
       "    }\n",
       "\n",
       "    .dataframe tbody tr th {\n",
       "        vertical-align: top;\n",
       "    }\n",
       "\n",
       "    .dataframe thead th {\n",
       "        text-align: right;\n",
       "    }\n",
       "</style>\n",
       "<table border=\"1\" class=\"dataframe\">\n",
       "  <thead>\n",
       "    <tr style=\"text-align: right;\">\n",
       "      <th></th>\n",
       "      <th>id</th>\n",
       "      <th>name</th>\n",
       "      <th>est_diameter_min</th>\n",
       "      <th>est_diameter_max</th>\n",
       "      <th>relative_velocity</th>\n",
       "      <th>miss_distance</th>\n",
       "      <th>absolute_magnitude</th>\n",
       "      <th>hazardous</th>\n",
       "    </tr>\n",
       "  </thead>\n",
       "  <tbody>\n",
       "    <tr>\n",
       "      <th>0</th>\n",
       "      <td>2162635</td>\n",
       "      <td>162635 (2000 SS164)</td>\n",
       "      <td>1.198271</td>\n",
       "      <td>2.679415</td>\n",
       "      <td>13569.249224</td>\n",
       "      <td>5.483974e+07</td>\n",
       "      <td>16.73</td>\n",
       "      <td>False</td>\n",
       "    </tr>\n",
       "  </tbody>\n",
       "</table>\n",
       "</div>"
      ],
      "text/plain": [
       "        id                 name  est_diameter_min  est_diameter_max  \\\n",
       "0  2162635  162635 (2000 SS164)          1.198271          2.679415   \n",
       "\n",
       "   relative_velocity  miss_distance  absolute_magnitude  hazardous  \n",
       "0       13569.249224   5.483974e+07               16.73      False  "
      ]
     },
     "execution_count": 6,
     "metadata": {},
     "output_type": "execute_result"
    }
   ],
   "source": [
    "df.head(1)"
   ]
  },
  {
   "cell_type": "code",
   "execution_count": 7,
   "id": "8045673e",
   "metadata": {},
   "outputs": [],
   "source": [
    "df['hazardous'] = df['hazardous'].astype(int)"
   ]
  },
  {
   "cell_type": "code",
   "execution_count": 8,
   "id": "352401c8",
   "metadata": {},
   "outputs": [
    {
     "data": {
      "text/html": [
       "<div>\n",
       "<style scoped>\n",
       "    .dataframe tbody tr th:only-of-type {\n",
       "        vertical-align: middle;\n",
       "    }\n",
       "\n",
       "    .dataframe tbody tr th {\n",
       "        vertical-align: top;\n",
       "    }\n",
       "\n",
       "    .dataframe thead th {\n",
       "        text-align: right;\n",
       "    }\n",
       "</style>\n",
       "<table border=\"1\" class=\"dataframe\">\n",
       "  <thead>\n",
       "    <tr style=\"text-align: right;\">\n",
       "      <th></th>\n",
       "      <th>id</th>\n",
       "      <th>name</th>\n",
       "      <th>est_diameter_min</th>\n",
       "      <th>est_diameter_max</th>\n",
       "      <th>relative_velocity</th>\n",
       "      <th>miss_distance</th>\n",
       "      <th>absolute_magnitude</th>\n",
       "      <th>hazardous</th>\n",
       "    </tr>\n",
       "  </thead>\n",
       "  <tbody>\n",
       "    <tr>\n",
       "      <th>0</th>\n",
       "      <td>2162635</td>\n",
       "      <td>162635 (2000 SS164)</td>\n",
       "      <td>1.198271</td>\n",
       "      <td>2.679415</td>\n",
       "      <td>13569.249224</td>\n",
       "      <td>5.483974e+07</td>\n",
       "      <td>16.73</td>\n",
       "      <td>0</td>\n",
       "    </tr>\n",
       "  </tbody>\n",
       "</table>\n",
       "</div>"
      ],
      "text/plain": [
       "        id                 name  est_diameter_min  est_diameter_max  \\\n",
       "0  2162635  162635 (2000 SS164)          1.198271          2.679415   \n",
       "\n",
       "   relative_velocity  miss_distance  absolute_magnitude  hazardous  \n",
       "0       13569.249224   5.483974e+07               16.73          0  "
      ]
     },
     "execution_count": 8,
     "metadata": {},
     "output_type": "execute_result"
    }
   ],
   "source": [
    "df.head(1)"
   ]
  },
  {
   "cell_type": "code",
   "execution_count": 9,
   "id": "a9074f07",
   "metadata": {},
   "outputs": [
    {
     "data": {
      "text/plain": [
       "id                      int64\n",
       "name                   object\n",
       "est_diameter_min      float64\n",
       "est_diameter_max      float64\n",
       "relative_velocity     float64\n",
       "miss_distance         float64\n",
       "absolute_magnitude    float64\n",
       "hazardous               int64\n",
       "dtype: object"
      ]
     },
     "execution_count": 9,
     "metadata": {},
     "output_type": "execute_result"
    }
   ],
   "source": [
    "# checking to make sure data is fine to work with\n",
    "df.dtypes"
   ]
  },
  {
   "cell_type": "markdown",
   "id": "98766ad2",
   "metadata": {},
   "source": [
    "# the goal of this project is to see wether or not we can classify a asteroid as hazardous "
   ]
  },
  {
   "cell_type": "code",
   "execution_count": 10,
   "id": "70626f13",
   "metadata": {},
   "outputs": [
    {
     "data": {
      "text/plain": [
       "8"
      ]
     },
     "execution_count": 10,
     "metadata": {},
     "output_type": "execute_result"
    }
   ],
   "source": [
    "len(df.columns)"
   ]
  },
  {
   "cell_type": "code",
   "execution_count": 11,
   "id": "54c15d41",
   "metadata": {},
   "outputs": [
    {
     "data": {
      "text/plain": [
       "7"
      ]
     },
     "execution_count": 11,
     "metadata": {},
     "output_type": "execute_result"
    }
   ],
   "source": [
    "numerical = df.select_dtypes(include = 'number')\n",
    "len(numerical.columns)"
   ]
  },
  {
   "cell_type": "code",
   "execution_count": 12,
   "id": "81636961",
   "metadata": {},
   "outputs": [
    {
     "data": {
      "text/plain": [
       "1"
      ]
     },
     "execution_count": 12,
     "metadata": {},
     "output_type": "execute_result"
    }
   ],
   "source": [
    "categorical = df.select_dtypes(exclude = 'number')\n",
    "len(categorical.columns)"
   ]
  },
  {
   "cell_type": "code",
   "execution_count": 13,
   "id": "ab316ec1",
   "metadata": {},
   "outputs": [
    {
     "data": {
      "text/html": [
       "<div>\n",
       "<style scoped>\n",
       "    .dataframe tbody tr th:only-of-type {\n",
       "        vertical-align: middle;\n",
       "    }\n",
       "\n",
       "    .dataframe tbody tr th {\n",
       "        vertical-align: top;\n",
       "    }\n",
       "\n",
       "    .dataframe thead th {\n",
       "        text-align: right;\n",
       "    }\n",
       "</style>\n",
       "<table border=\"1\" class=\"dataframe\">\n",
       "  <thead>\n",
       "    <tr style=\"text-align: right;\">\n",
       "      <th></th>\n",
       "      <th>id</th>\n",
       "      <th>est_diameter_min</th>\n",
       "      <th>est_diameter_max</th>\n",
       "      <th>relative_velocity</th>\n",
       "      <th>miss_distance</th>\n",
       "      <th>absolute_magnitude</th>\n",
       "      <th>hazardous</th>\n",
       "    </tr>\n",
       "  </thead>\n",
       "  <tbody>\n",
       "    <tr>\n",
       "      <th>count</th>\n",
       "      <td>9.083600e+04</td>\n",
       "      <td>90836.000000</td>\n",
       "      <td>90836.000000</td>\n",
       "      <td>90836.000000</td>\n",
       "      <td>9.083600e+04</td>\n",
       "      <td>90836.000000</td>\n",
       "      <td>90836.000000</td>\n",
       "    </tr>\n",
       "    <tr>\n",
       "      <th>mean</th>\n",
       "      <td>1.438288e+07</td>\n",
       "      <td>0.127432</td>\n",
       "      <td>0.284947</td>\n",
       "      <td>48066.918918</td>\n",
       "      <td>3.706655e+07</td>\n",
       "      <td>23.527103</td>\n",
       "      <td>0.097318</td>\n",
       "    </tr>\n",
       "    <tr>\n",
       "      <th>std</th>\n",
       "      <td>2.087202e+07</td>\n",
       "      <td>0.298511</td>\n",
       "      <td>0.667491</td>\n",
       "      <td>25293.296961</td>\n",
       "      <td>2.235204e+07</td>\n",
       "      <td>2.894086</td>\n",
       "      <td>0.296392</td>\n",
       "    </tr>\n",
       "    <tr>\n",
       "      <th>min</th>\n",
       "      <td>2.000433e+06</td>\n",
       "      <td>0.000609</td>\n",
       "      <td>0.001362</td>\n",
       "      <td>203.346433</td>\n",
       "      <td>6.745533e+03</td>\n",
       "      <td>9.230000</td>\n",
       "      <td>0.000000</td>\n",
       "    </tr>\n",
       "    <tr>\n",
       "      <th>25%</th>\n",
       "      <td>3.448110e+06</td>\n",
       "      <td>0.019256</td>\n",
       "      <td>0.043057</td>\n",
       "      <td>28619.020645</td>\n",
       "      <td>1.721082e+07</td>\n",
       "      <td>21.340000</td>\n",
       "      <td>0.000000</td>\n",
       "    </tr>\n",
       "    <tr>\n",
       "      <th>50%</th>\n",
       "      <td>3.748362e+06</td>\n",
       "      <td>0.048368</td>\n",
       "      <td>0.108153</td>\n",
       "      <td>44190.117890</td>\n",
       "      <td>3.784658e+07</td>\n",
       "      <td>23.700000</td>\n",
       "      <td>0.000000</td>\n",
       "    </tr>\n",
       "    <tr>\n",
       "      <th>75%</th>\n",
       "      <td>3.884023e+06</td>\n",
       "      <td>0.143402</td>\n",
       "      <td>0.320656</td>\n",
       "      <td>62923.604633</td>\n",
       "      <td>5.654900e+07</td>\n",
       "      <td>25.700000</td>\n",
       "      <td>0.000000</td>\n",
       "    </tr>\n",
       "    <tr>\n",
       "      <th>max</th>\n",
       "      <td>5.427591e+07</td>\n",
       "      <td>37.892650</td>\n",
       "      <td>84.730541</td>\n",
       "      <td>236990.128088</td>\n",
       "      <td>7.479865e+07</td>\n",
       "      <td>33.200000</td>\n",
       "      <td>1.000000</td>\n",
       "    </tr>\n",
       "  </tbody>\n",
       "</table>\n",
       "</div>"
      ],
      "text/plain": [
       "                 id  est_diameter_min  est_diameter_max  relative_velocity  \\\n",
       "count  9.083600e+04      90836.000000      90836.000000       90836.000000   \n",
       "mean   1.438288e+07          0.127432          0.284947       48066.918918   \n",
       "std    2.087202e+07          0.298511          0.667491       25293.296961   \n",
       "min    2.000433e+06          0.000609          0.001362         203.346433   \n",
       "25%    3.448110e+06          0.019256          0.043057       28619.020645   \n",
       "50%    3.748362e+06          0.048368          0.108153       44190.117890   \n",
       "75%    3.884023e+06          0.143402          0.320656       62923.604633   \n",
       "max    5.427591e+07         37.892650         84.730541      236990.128088   \n",
       "\n",
       "       miss_distance  absolute_magnitude     hazardous  \n",
       "count   9.083600e+04        90836.000000  90836.000000  \n",
       "mean    3.706655e+07           23.527103      0.097318  \n",
       "std     2.235204e+07            2.894086      0.296392  \n",
       "min     6.745533e+03            9.230000      0.000000  \n",
       "25%     1.721082e+07           21.340000      0.000000  \n",
       "50%     3.784658e+07           23.700000      0.000000  \n",
       "75%     5.654900e+07           25.700000      0.000000  \n",
       "max     7.479865e+07           33.200000      1.000000  "
      ]
     },
     "execution_count": 13,
     "metadata": {},
     "output_type": "execute_result"
    }
   ],
   "source": [
    "df.describe()"
   ]
  },
  {
   "cell_type": "markdown",
   "id": "5012dd44",
   "metadata": {},
   "source": [
    "# exploring numericals"
   ]
  },
  {
   "cell_type": "code",
   "execution_count": 14,
   "id": "3feb0983",
   "metadata": {
    "scrolled": true
   },
   "outputs": [
    {
     "data": {
      "image/png": "[encoded data removed]",
      "text/plain": [
       "<Figure size 500x500 with 1 Axes>"
      ]
     },
     "metadata": {},
     "output_type": "display_data"
    },
    {
     "data": {
      "image/png": "[encoded data removed]",
      "text/plain": [
       "<Figure size 640x480 with 1 Axes>"
      ]
     },
     "metadata": {},
     "output_type": "display_data"
    },
    {
     "data": {
      "image/png": "[encoded data removed]",
      "text/plain": [
       "<Figure size 500x500 with 1 Axes>"
      ]
     },
     "metadata": {},
     "output_type": "display_data"
    },
    {
     "data": {
      "image/png": "[encoded data removed]",
      "text/plain": [
       "<Figure size 640x480 with 1 Axes>"
      ]
     },
     "metadata": {},
     "output_type": "display_data"
    },
    {
     "data": {
      "image/png": "[encoded data removed]",
      "text/plain": [
       "<Figure size 500x500 with 1 Axes>"
      ]
     },
     "metadata": {},
     "output_type": "display_data"
    },
    {
     "data": {
      "image/png": "[encoded data removed]",
      "text/plain": [
       "<Figure size 640x480 with 1 Axes>"
      ]
     },
     "metadata": {},
     "output_type": "display_data"
    },
    {
     "data": {
      "image/png": "[encoded data removed]",
      "text/plain": [
       "<Figure size 500x500 with 1 Axes>"
      ]
     },
     "metadata": {},
     "output_type": "display_data"
    },
    {
     "data": {
      "image/png": "[encoded data removed]",
      "text/plain": [
       "<Figure size 640x480 with 1 Axes>"
      ]
     },
     "metadata": {},
     "output_type": "display_data"
    },
    {
     "data": {
      "image/png": "[encoded data removed]",
      "text/plain": [
       "<Figure size 500x500 with 1 Axes>"
      ]
     },
     "metadata": {},
     "output_type": "display_data"
    },
    {
     "data": {
      "image/png": "[encoded data removed]",
      "text/plain": [
       "<Figure size 640x480 with 1 Axes>"
      ]
     },
     "metadata": {},
     "output_type": "display_data"
    },
    {
     "data": {
      "image/png": "[encoded data removed]",
      "text/plain": [
       "<Figure size 500x500 with 1 Axes>"
      ]
     },
     "metadata": {},
     "output_type": "display_data"
    },
    {
     "data": {
      "image/png": "[encoded data removed]",
      "text/plain": [
       "<Figure size 640x480 with 1 Axes>"
      ]
     },
     "metadata": {},
     "output_type": "display_data"
    },
    {
     "data": {
      "image/png": "[encoded data removed]",
      "text/plain": [
       "<Figure size 500x500 with 1 Axes>"
      ]
     },
     "metadata": {},
     "output_type": "display_data"
    },
    {
     "data": {
      "image/png": "[encoded data removed]",
      "text/plain": [
       "<Figure size 640x480 with 1 Axes>"
      ]
     },
     "metadata": {},
     "output_type": "display_data"
    }
   ],
   "source": [
    "for col in numerical.columns:\n",
    "    \n",
    "    sns.displot(data= numerical,x = col)\n",
    "    \n",
    "    plt.show()\n",
    "    \n",
    "    \n",
    "    # box plot, outlier check\n",
    "    sns.boxplot(data= numerical,x = col)\n",
    "    \n",
    "    \n",
    "    plt.show()\n",
    "    "
   ]
  },
  {
   "cell_type": "code",
   "execution_count": 15,
   "id": "bb8e8718",
   "metadata": {},
   "outputs": [
    {
     "data": {
      "image/png": "[encoded data removed]",
      "text/plain": [
       "<Figure size 500x500 with 1 Axes>"
      ]
     },
     "metadata": {},
     "output_type": "display_data"
    }
   ],
   "source": [
    "sns.displot(data= numerical,x = 'est_diameter_max')\n",
    "plt.ylim(0,750)\n",
    "plt.xlim(-1,10)\n",
    "plt.show()\n",
    "    "
   ]
  },
  {
   "cell_type": "markdown",
   "id": "915342be",
   "metadata": {},
   "source": [
    "<div class=\"alert alert-block alert-info\">\n",
    "<b>Take Aways:</b>  \n",
    "* There are two data points with outliers `min diameter`\n",
    "* There are two data points with outliers `max diameter`(most likely the same two)\n",
    "* more of data points have a near miss of about 1 or less\n"
   ]
  },
  {
   "cell_type": "markdown",
   "id": "5442b036",
   "metadata": {},
   "source": [
    "# exploring categoricals"
   ]
  },
  {
   "cell_type": "code",
   "execution_count": 16,
   "id": "747ee43d",
   "metadata": {},
   "outputs": [
    {
     "data": {
      "text/html": [
       "<div>\n",
       "<style scoped>\n",
       "    .dataframe tbody tr th:only-of-type {\n",
       "        vertical-align: middle;\n",
       "    }\n",
       "\n",
       "    .dataframe tbody tr th {\n",
       "        vertical-align: top;\n",
       "    }\n",
       "\n",
       "    .dataframe thead th {\n",
       "        text-align: right;\n",
       "    }\n",
       "</style>\n",
       "<table border=\"1\" class=\"dataframe\">\n",
       "  <thead>\n",
       "    <tr style=\"text-align: right;\">\n",
       "      <th></th>\n",
       "      <th>name</th>\n",
       "    </tr>\n",
       "  </thead>\n",
       "  <tbody>\n",
       "    <tr>\n",
       "      <th>0</th>\n",
       "      <td>162635 (2000 SS164)</td>\n",
       "    </tr>\n",
       "  </tbody>\n",
       "</table>\n",
       "</div>"
      ],
      "text/plain": [
       "                  name\n",
       "0  162635 (2000 SS164)"
      ]
     },
     "execution_count": 16,
     "metadata": {},
     "output_type": "execute_result"
    }
   ],
   "source": [
    "categorical.head(1)"
   ]
  },
  {
   "cell_type": "code",
   "execution_count": 17,
   "id": "900dfda0",
   "metadata": {},
   "outputs": [],
   "source": [
    "# sns.countplot(data= categorical,x = \"hazardous\")\n",
    "# plt.show()"
   ]
  },
  {
   "cell_type": "markdown",
   "id": "b1e42749",
   "metadata": {},
   "source": [
    "<div class=\"alert alert-block alert-info\">\n",
    "<b>Hazardous:</b>  we have found more benign near earth objects than hazardous"
   ]
  },
  {
   "cell_type": "markdown",
   "id": "abce8a50",
   "metadata": {},
   "source": [
    "# train split data"
   ]
  },
  {
   "cell_type": "code",
   "execution_count": 18,
   "id": "0eab78f3",
   "metadata": {},
   "outputs": [],
   "source": [
    "def split_data(df,strat):\n",
    "    ''' \n",
    "    splits data frame and returns a train, validate, \n",
    "    and test data frame stratified on churn \n",
    "    '''\n",
    "    \n",
    "    # split df into train_validate and test\n",
    "    train_validate, test = train_test_split(df,test_size =.2, \n",
    "                                             random_state = 42,\n",
    "                                             stratify = df[strat])\n",
    "    \n",
    "    # split train_validate into train and validate\n",
    "    train, validate = train_test_split(train_validate,\n",
    "                                      test_size = .3,\n",
    "                                      random_state = 42,\n",
    "                                      stratify = train_validate[strat])\n",
    "                                            \n",
    "    # reset index for train validate and tes\n",
    "    train.reset_index(drop=True, inplace=True)\n",
    "    validate.reset_index(drop=True, inplace=True)\n",
    "    test.reset_index(drop=True, inplace=True)\n",
    "    \n",
    "    print (train.shape,test.shape,validate.shape)\n",
    "    return train, validate, test"
   ]
  },
  {
   "cell_type": "code",
   "execution_count": null,
   "id": "8743d1b8",
   "metadata": {},
   "outputs": [],
   "source": []
  },
  {
   "cell_type": "code",
   "execution_count": 19,
   "id": "1f0b0812",
   "metadata": {},
   "outputs": [],
   "source": [
    "# checking to see the shape and checking the data frames"
   ]
  },
  {
   "cell_type": "code",
   "execution_count": 20,
   "id": "58909039",
   "metadata": {},
   "outputs": [
    {
     "name": "stdout",
     "output_type": "stream",
     "text": [
      "(50867, 8) (18168, 8) (21801, 8)\n"
     ]
    }
   ],
   "source": [
    "train,validate, test = split_data(df,'hazardous')"
   ]
  },
  {
   "cell_type": "code",
   "execution_count": 21,
   "id": "f1c333da",
   "metadata": {},
   "outputs": [
    {
     "data": {
      "text/html": [
       "<div>\n",
       "<style scoped>\n",
       "    .dataframe tbody tr th:only-of-type {\n",
       "        vertical-align: middle;\n",
       "    }\n",
       "\n",
       "    .dataframe tbody tr th {\n",
       "        vertical-align: top;\n",
       "    }\n",
       "\n",
       "    .dataframe thead th {\n",
       "        text-align: right;\n",
       "    }\n",
       "</style>\n",
       "<table border=\"1\" class=\"dataframe\">\n",
       "  <thead>\n",
       "    <tr style=\"text-align: right;\">\n",
       "      <th></th>\n",
       "      <th>id</th>\n",
       "      <th>name</th>\n",
       "      <th>est_diameter_min</th>\n",
       "      <th>est_diameter_max</th>\n",
       "      <th>relative_velocity</th>\n",
       "      <th>miss_distance</th>\n",
       "      <th>absolute_magnitude</th>\n",
       "      <th>hazardous</th>\n",
       "    </tr>\n",
       "  </thead>\n",
       "  <tbody>\n",
       "    <tr>\n",
       "      <th>0</th>\n",
       "      <td>2512245</td>\n",
       "      <td>512245 (2016 AU8)</td>\n",
       "      <td>0.288772</td>\n",
       "      <td>0.645714</td>\n",
       "      <td>29196.269134</td>\n",
       "      <td>3.049479e+07</td>\n",
       "      <td>19.82</td>\n",
       "      <td>0</td>\n",
       "    </tr>\n",
       "  </tbody>\n",
       "</table>\n",
       "</div>"
      ],
      "text/plain": [
       "        id               name  est_diameter_min  est_diameter_max  \\\n",
       "0  2512245  512245 (2016 AU8)          0.288772          0.645714   \n",
       "\n",
       "   relative_velocity  miss_distance  absolute_magnitude  hazardous  \n",
       "0       29196.269134   3.049479e+07               19.82          0  "
      ]
     },
     "execution_count": 21,
     "metadata": {},
     "output_type": "execute_result"
    }
   ],
   "source": [
    "train.head(1)"
   ]
  },
  {
   "cell_type": "code",
   "execution_count": 22,
   "id": "d0f5f505",
   "metadata": {},
   "outputs": [
    {
     "data": {
      "text/html": [
       "<div>\n",
       "<style scoped>\n",
       "    .dataframe tbody tr th:only-of-type {\n",
       "        vertical-align: middle;\n",
       "    }\n",
       "\n",
       "    .dataframe tbody tr th {\n",
       "        vertical-align: top;\n",
       "    }\n",
       "\n",
       "    .dataframe thead th {\n",
       "        text-align: right;\n",
       "    }\n",
       "</style>\n",
       "<table border=\"1\" class=\"dataframe\">\n",
       "  <thead>\n",
       "    <tr style=\"text-align: right;\">\n",
       "      <th></th>\n",
       "      <th>id</th>\n",
       "      <th>name</th>\n",
       "      <th>est_diameter_min</th>\n",
       "      <th>est_diameter_max</th>\n",
       "      <th>relative_velocity</th>\n",
       "      <th>miss_distance</th>\n",
       "      <th>absolute_magnitude</th>\n",
       "      <th>hazardous</th>\n",
       "    </tr>\n",
       "  </thead>\n",
       "  <tbody>\n",
       "    <tr>\n",
       "      <th>0</th>\n",
       "      <td>2474532</td>\n",
       "      <td>474532 (2003 VG1)</td>\n",
       "      <td>0.472667</td>\n",
       "      <td>1.056915</td>\n",
       "      <td>21779.237137</td>\n",
       "      <td>3.443050e+07</td>\n",
       "      <td>18.75</td>\n",
       "      <td>0</td>\n",
       "    </tr>\n",
       "  </tbody>\n",
       "</table>\n",
       "</div>"
      ],
      "text/plain": [
       "        id               name  est_diameter_min  est_diameter_max  \\\n",
       "0  2474532  474532 (2003 VG1)          0.472667          1.056915   \n",
       "\n",
       "   relative_velocity  miss_distance  absolute_magnitude  hazardous  \n",
       "0       21779.237137   3.443050e+07               18.75          0  "
      ]
     },
     "execution_count": 22,
     "metadata": {},
     "output_type": "execute_result"
    }
   ],
   "source": [
    "test.head(1)"
   ]
  },
  {
   "cell_type": "code",
   "execution_count": 23,
   "id": "ceac1d05",
   "metadata": {},
   "outputs": [
    {
     "data": {
      "text/html": [
       "<div>\n",
       "<style scoped>\n",
       "    .dataframe tbody tr th:only-of-type {\n",
       "        vertical-align: middle;\n",
       "    }\n",
       "\n",
       "    .dataframe tbody tr th {\n",
       "        vertical-align: top;\n",
       "    }\n",
       "\n",
       "    .dataframe thead th {\n",
       "        text-align: right;\n",
       "    }\n",
       "</style>\n",
       "<table border=\"1\" class=\"dataframe\">\n",
       "  <thead>\n",
       "    <tr style=\"text-align: right;\">\n",
       "      <th></th>\n",
       "      <th>id</th>\n",
       "      <th>name</th>\n",
       "      <th>est_diameter_min</th>\n",
       "      <th>est_diameter_max</th>\n",
       "      <th>relative_velocity</th>\n",
       "      <th>miss_distance</th>\n",
       "      <th>absolute_magnitude</th>\n",
       "      <th>hazardous</th>\n",
       "    </tr>\n",
       "  </thead>\n",
       "  <tbody>\n",
       "    <tr>\n",
       "      <th>0</th>\n",
       "      <td>3704141</td>\n",
       "      <td>(2015 AY245)</td>\n",
       "      <td>0.168483</td>\n",
       "      <td>0.376738</td>\n",
       "      <td>23575.847178</td>\n",
       "      <td>3.791253e+07</td>\n",
       "      <td>20.99</td>\n",
       "      <td>1</td>\n",
       "    </tr>\n",
       "  </tbody>\n",
       "</table>\n",
       "</div>"
      ],
      "text/plain": [
       "        id          name  est_diameter_min  est_diameter_max  \\\n",
       "0  3704141  (2015 AY245)          0.168483          0.376738   \n",
       "\n",
       "   relative_velocity  miss_distance  absolute_magnitude  hazardous  \n",
       "0       23575.847178   3.791253e+07               20.99          1  "
      ]
     },
     "execution_count": 23,
     "metadata": {},
     "output_type": "execute_result"
    }
   ],
   "source": [
    "validate.head(1)"
   ]
  },
  {
   "cell_type": "markdown",
   "id": "62452fe3",
   "metadata": {},
   "source": [
    "# multi_variate"
   ]
  },
  {
   "cell_type": "code",
   "execution_count": 24,
   "id": "00c71303",
   "metadata": {},
   "outputs": [],
   "source": [
    "matrix = train.corr()"
   ]
  },
  {
   "cell_type": "code",
   "execution_count": 25,
   "id": "4eb494ee",
   "metadata": {},
   "outputs": [
    {
     "data": {
      "text/plain": [
       "<AxesSubplot:>"
      ]
     },
     "execution_count": 25,
     "metadata": {},
     "output_type": "execute_result"
    },
    {
     "data": {
      "image/png": "[encoded data removed]",
      "text/plain": [
       "<Figure size 640x480 with 2 Axes>"
      ]
     },
     "metadata": {},
     "output_type": "display_data"
    }
   ],
   "source": [
    "heatmap(matrix)\n"
   ]
  },
  {
   "cell_type": "markdown",
   "id": "57958b21",
   "metadata": {},
   "source": [
    "<div class=\"alert alert-block alert-info\">\n",
    "<b>Take Aways:</b>  \n",
    "    \n",
    "* hazardous has a negative correlation to absoulte_magnitude\n",
    "* hazardous has a positive correlation to `relative_velocity`, `diameter_max`, and `diameter_min`\n",
    "\n",
    "* `absolute_magnitude` has a strong negative correlation with diameter. the less visablity an object has the more likely it is to be smaller.\n",
    "* `rel_velocity` and the `diameter` are correlated"
   ]
  },
  {
   "cell_type": "markdown",
   "id": "74b1e1d1",
   "metadata": {},
   "source": [
    "<div class=\"alert alert-block alert-success\">\n",
    "<b>Questions:</b>\n",
    "    \n",
    "* if i group hazardous and not hazardous, will the max diameter mean be different between the two?\n",
    "* if i group hazardous and not hazardous, will there be a significant differce in absolute magnitude\n",
    "* is the correlation between diameter and hazardous significant\n"
   ]
  },
  {
   "cell_type": "markdown",
   "id": "376e2d56",
   "metadata": {},
   "source": [
    "# explore questions"
   ]
  },
  {
   "cell_type": "markdown",
   "id": "f554db11",
   "metadata": {},
   "source": [
    "### how many objects are hazardous and how many are inert"
   ]
  },
  {
   "cell_type": "code",
   "execution_count": 26,
   "id": "5cab38e4",
   "metadata": {},
   "outputs": [],
   "source": [
    "haz = df[df.hazardous == 1]\n",
    "safe = df[df.hazardous == 0]"
   ]
  },
  {
   "cell_type": "code",
   "execution_count": 27,
   "id": "233b4d5c",
   "metadata": {},
   "outputs": [
    {
     "data": {
      "text/plain": [
       "0.10781013707985755"
      ]
     },
     "execution_count": 27,
     "metadata": {},
     "output_type": "execute_result"
    }
   ],
   "source": [
    "len(haz) / len(safe)\n",
    "# 10 percent of our data is dangerous"
   ]
  },
  {
   "cell_type": "code",
   "execution_count": 28,
   "id": "edf9c9c5",
   "metadata": {},
   "outputs": [],
   "source": [
    "# i want to add gray spots to make it look like an astroid"
   ]
  },
  {
   "cell_type": "code",
   "execution_count": null,
   "id": "90e52292",
   "metadata": {},
   "outputs": [],
   "source": []
  },
  {
   "cell_type": "code",
   "execution_count": 29,
   "id": "2dfe03a3",
   "metadata": {},
   "outputs": [],
   "source": [
    "### if i group hazardous and not hazardous, will the min diameter mean be different between the two?"
   ]
  },
  {
   "cell_type": "code",
   "execution_count": 30,
   "id": "bcb2571c",
   "metadata": {},
   "outputs": [
    {
     "data": {
      "text/plain": [
       "(0.0, 100.0)"
      ]
     },
     "execution_count": 30,
     "metadata": {},
     "output_type": "execute_result"
    },
    {
     "data": {
      "image/png": "[encoded data removed]",
      "text/plain": [
       "<Figure size 500x500 with 1 Axes>"
      ]
     },
     "metadata": {},
     "output_type": "display_data"
    }
   ],
   "source": [
    "sns.displot(data = safe.est_diameter_min,kde = 'line')\n",
    "plt.ylim(0,100)"
   ]
  },
  {
   "cell_type": "code",
   "execution_count": 31,
   "id": "2b9535df",
   "metadata": {},
   "outputs": [
    {
     "data": {
      "text/plain": [
       "(0.0, 100.0)"
      ]
     },
     "execution_count": 31,
     "metadata": {},
     "output_type": "execute_result"
    },
    {
     "data": {
      "image/png": "[encoded data removed]",
      "text/plain": [
       "<Figure size 500x500 with 1 Axes>"
      ]
     },
     "metadata": {},
     "output_type": "display_data"
    }
   ],
   "source": [
    "sns.displot(data = haz.est_diameter_min,kde = 'line')\n",
    "plt.ylim(0,100)"
   ]
  },
  {
   "cell_type": "markdown",
   "id": "c3ae1877",
   "metadata": {},
   "source": [
    "<div class=\"alert alert-block alert-info\">\n",
    "<b>Take Aways:</b>  \n",
    "    \n",
    "$Ho$ : Mean of est_diameter_min of astroids that are hazardous = Mean of est_diameter_min of that are NOT hazardous\n",
    "\n",
    "$Ha$ : Mean of est_diameter_min of astroids that are hazardous =! Mean of est_diameter_min of that are NOT hazardous"
   ]
  },
  {
   "cell_type": "code",
   "execution_count": 32,
   "id": "e084034e",
   "metadata": {},
   "outputs": [],
   "source": [
    "saf_min = safe.est_diameter_min"
   ]
  },
  {
   "cell_type": "code",
   "execution_count": 33,
   "id": "b22f2cdd",
   "metadata": {},
   "outputs": [
    {
     "data": {
      "text/plain": [
       "0.10945994486417701"
      ]
     },
     "execution_count": 33,
     "metadata": {},
     "output_type": "execute_result"
    }
   ],
   "source": [
    "saf_min.mean()"
   ]
  },
  {
   "cell_type": "code",
   "execution_count": 34,
   "id": "2f74d998",
   "metadata": {},
   "outputs": [],
   "source": [
    "haz_min = haz.est_diameter_min"
   ]
  },
  {
   "cell_type": "code",
   "execution_count": 35,
   "id": "4ae64e90",
   "metadata": {},
   "outputs": [
    {
     "data": {
      "text/plain": [
       "0.2941340690233259"
      ]
     },
     "execution_count": 35,
     "metadata": {},
     "output_type": "execute_result"
    }
   ],
   "source": [
    "haz_min.mean()"
   ]
  },
  {
   "cell_type": "code",
   "execution_count": 36,
   "id": "acf0007c",
   "metadata": {},
   "outputs": [],
   "source": [
    "t, p= mannwhitneyu(haz_min, saf_min)"
   ]
  },
  {
   "cell_type": "code",
   "execution_count": 37,
   "id": "1fb38292",
   "metadata": {},
   "outputs": [
    {
     "name": "stdout",
     "output_type": "stream",
     "text": [
      "Statistics=627036894.00, p=0.00\n"
     ]
    }
   ],
   "source": [
    "print('Statistics=%.2f, p=%.2f' % (t, p))\n"
   ]
  },
  {
   "cell_type": "code",
   "execution_count": 38,
   "id": "ee9cefce",
   "metadata": {},
   "outputs": [
    {
     "name": "stdout",
     "output_type": "stream",
     "text": [
      "Reject Null Hypothesis (Significant difference between two samples)\n"
     ]
    }
   ],
   "source": [
    "a = 0.05\n",
    "# conclusion\n",
    "if p < a:\n",
    "    print('Reject Null Hypothesis (Significant difference between two samples)')\n",
    "else:\n",
    "    print('Do not Reject Null Hypothesis (No significant difference between two samples)')"
   ]
  },
  {
   "cell_type": "markdown",
   "id": "f10a288d",
   "metadata": {},
   "source": [
    "<div class=\"alert alert-block alert-info\">\n",
    "<b>Take Aways:</b>  \n",
    "* splitting the groups into safe and not safe objects, you can see that the there is a significant mean difference in the min diameter meaning this may have some influence in our model\n",
    "\n"
   ]
  },
  {
   "cell_type": "markdown",
   "id": "01f1261a",
   "metadata": {},
   "source": [
    "# if i group hazardous and not hazardous, will there be a significant differce in absolute magnitude"
   ]
  },
  {
   "cell_type": "code",
   "execution_count": 39,
   "id": "978e5b48",
   "metadata": {},
   "outputs": [
    {
     "data": {
      "image/png": "[encoded data removed]",
      "text/plain": [
       "<Figure size 575.986x500 with 1 Axes>"
      ]
     },
     "metadata": {},
     "output_type": "display_data"
    }
   ],
   "source": [
    "sns.set_style('darkgrid')\n",
    "sns.relplot(data = train, x = 'est_diameter_max',y= 'hazardous',hue = \"hazardous\",palette = \"ocean_r\")\n",
    "plt.title('Does Diameter ell us if an Asteroid is Hazardous')\n",
    "plt.ylabel('Danger Status')\n",
    "plt.xlabel('Estimated Minimum Diameter')\n",
    " \n",
    "\n",
    "None"
   ]
  },
  {
   "cell_type": "code",
   "execution_count": 40,
   "id": "015675c6",
   "metadata": {},
   "outputs": [
    {
     "data": {
      "text/plain": [
       "(0.0, 100.0)"
      ]
     },
     "execution_count": 40,
     "metadata": {},
     "output_type": "execute_result"
    },
    {
     "data": {
      "image/png": "[encoded data removed]",
      "text/plain": [
       "<Figure size 500x500 with 1 Axes>"
      ]
     },
     "metadata": {},
     "output_type": "display_data"
    }
   ],
   "source": [
    "sns.displot(data = safe.absolute_magnitude,kde = 'line')\n",
    "plt.ylim(0,100)"
   ]
  },
  {
   "cell_type": "code",
   "execution_count": 41,
   "id": "7baf29f2",
   "metadata": {},
   "outputs": [
    {
     "data": {
      "text/plain": [
       "(0.0, 100.0)"
      ]
     },
     "execution_count": 41,
     "metadata": {},
     "output_type": "execute_result"
    },
    {
     "data": {
      "image/png": "[encoded data removed]",
      "text/plain": [
       "<Figure size 500x500 with 1 Axes>"
      ]
     },
     "metadata": {},
     "output_type": "display_data"
    }
   ],
   "source": [
    "sns.displot(data = haz.absolute_magnitude,kde = 'line')\n",
    "plt.ylim(0,100)"
   ]
  },
  {
   "cell_type": "code",
   "execution_count": 42,
   "id": "b4f26085",
   "metadata": {},
   "outputs": [],
   "source": [
    "haz_mag = haz.absolute_magnitude "
   ]
  },
  {
   "cell_type": "code",
   "execution_count": 43,
   "id": "661f0980",
   "metadata": {},
   "outputs": [],
   "source": [
    "saf_mag = safe.absolute_magnitude "
   ]
  },
  {
   "cell_type": "code",
   "execution_count": 44,
   "id": "b021bcb4",
   "metadata": {},
   "outputs": [
    {
     "name": "stdout",
     "output_type": "stream",
     "text": [
      "1.8000944781022008\n",
      "7.846715845803671\n"
     ]
    }
   ],
   "source": [
    "print(haz_mag.var())\n",
    "print(saf_mag.var())"
   ]
  },
  {
   "cell_type": "code",
   "execution_count": 45,
   "id": "5cf5fdb7",
   "metadata": {},
   "outputs": [
    {
     "data": {
      "text/plain": [
       "(-206.14921177684386, 0.0)"
      ]
     },
     "execution_count": 45,
     "metadata": {},
     "output_type": "execute_result"
    }
   ],
   "source": [
    "t, p = stats.ttest_ind(haz_mag, saf_mag, equal_var=False)\n",
    "\n",
    "t, p"
   ]
  },
  {
   "cell_type": "code",
   "execution_count": 46,
   "id": "17ebff7f",
   "metadata": {},
   "outputs": [
    {
     "name": "stdout",
     "output_type": "stream",
     "text": [
      "Reject Null Hypothesis (Significant difference between two samples)\n"
     ]
    }
   ],
   "source": [
    "# conclusion\n",
    "if p < a:\n",
    "    print('Reject Null Hypothesis (Significant difference between two samples)')\n",
    "else:\n",
    "    print('Do not Reject Null Hypothesis (No significant difference between two samples)')"
   ]
  },
  {
   "cell_type": "markdown",
   "id": "820b023b",
   "metadata": {},
   "source": [
    "<div class=\"alert alert-block alert-info\">\n",
    "<b>Take Aways:</b>  \n",
    "* splitting the groups into safe and not safe objects, you can see that the there is a significant mean difference in the absolute magnitude meaning this may have some influence in our model\n",
    "* the visbility of an object plays a roll into categorizing it as safe or not\n"
   ]
  },
  {
   "cell_type": "code",
   "execution_count": null,
   "id": "60f89116",
   "metadata": {},
   "outputs": [],
   "source": []
  },
  {
   "cell_type": "code",
   "execution_count": 49,
   "id": "222ec761",
   "metadata": {
    "scrolled": true
   },
   "outputs": [
    {
     "data": {
      "text/plain": [
       "<seaborn.axisgrid.JointGrid at 0x7fa055e0bb50>"
      ]
     },
     "execution_count": 49,
     "metadata": {},
     "output_type": "execute_result"
    },
    {
     "data": {
      "image/png": "[encoded data removed]",
      "text/plain": [
       "<Figure size 600x600 with 3 Axes>"
      ]
     },
     "metadata": {},
     "output_type": "display_data"
    }
   ],
   "source": [
    "sns.jointplot(data = train, x = 'absolute_magnitude', y = 'hazardous',hue = 'hazardous',palette = 'Set1' )"
   ]
  },
  {
   "cell_type": "code",
   "execution_count": 50,
   "id": "7a42eadc",
   "metadata": {},
   "outputs": [],
   "source": [
    "# the brighter you are the less chance of being hazardous"
   ]
  },
  {
   "cell_type": "markdown",
   "id": "cd3bde7e",
   "metadata": {},
   "source": [
    "# Modeling "
   ]
  },
  {
   "cell_type": "code",
   "execution_count": null,
   "id": "d12cd5ee",
   "metadata": {},
   "outputs": [],
   "source": []
  },
  {
   "cell_type": "code",
   "execution_count": 51,
   "id": "c5d15558",
   "metadata": {},
   "outputs": [],
   "source": [
    "def x_and_y(train,validate,test,target):\n",
    "    \n",
    "    \"\"\"\n",
    "    splits train, validate, and target into x and y versions\n",
    "    \"\"\"\n",
    "\n",
    "    x_train = train.drop(columns= target)\n",
    "    y_train = train[target]\n",
    "\n",
    "    x_validate = validate.drop(columns= target)\n",
    "    y_validate = validate[target]\n",
    "\n",
    "    x_test = test.drop(columns= target)\n",
    "    y_test = test[target]\n",
    "    \n",
    "    y_train = pd.DataFrame(y_train)\n",
    "    y_validate = pd.DataFrame(y_validate)\n",
    "    y_test = pd.DataFrame(y_test)\n",
    "\n",
    "\n",
    "    return x_train,y_train,x_validate,y_validate,x_test, y_test"
   ]
  },
  {
   "cell_type": "code",
   "execution_count": 52,
   "id": "e831c1b1",
   "metadata": {},
   "outputs": [],
   "source": [
    "x_train,y_train,x_validate,y_validate,x_test, y_test = x_and_y(train,validate,test,'hazardous')"
   ]
  },
  {
   "cell_type": "markdown",
   "id": "1b305797",
   "metadata": {},
   "source": [
    "# selecting model features"
   ]
  },
  {
   "cell_type": "code",
   "execution_count": 53,
   "id": "03f3f3c9",
   "metadata": {},
   "outputs": [],
   "source": [
    "x_train = x_train.drop(columns = ['id','name'])\n",
    "x_validate = x_validate.drop(columns = ['id','name'])\n",
    "x_test= x_test.drop(columns = ['id','name'])"
   ]
  },
  {
   "cell_type": "markdown",
   "id": "88e1a706",
   "metadata": {},
   "source": [
    "### baseline"
   ]
  },
  {
   "cell_type": "code",
   "execution_count": 51,
   "id": "08ca4336",
   "metadata": {},
   "outputs": [
    {
     "name": "stdout",
     "output_type": "stream",
     "text": [
      "Baseline Accuracy: 0.90\n",
      "Baseline Precision: 0.45\n"
     ]
    }
   ],
   "source": [
    "# Calculate the baseline prediction\n",
    "baseline_pred = [statistics.mode(y_train['hazardous'])] * len(y_train['hazardous'])\n",
    "\n",
    "# Calculate the accuracy score\n",
    "baseline_accuracy = accuracy_score(y_train['hazardous'], baseline_pred)\n",
    "print(f\"Baseline Accuracy: {baseline_accuracy:.2f}\")\n",
    "\n",
    "# Calculate the precision score\n",
    "baseline_precision = precision_score(y_train['hazardous'], baseline_pred, average='macro')\n",
    "print(f\"Baseline Precision: {baseline_precision:.2f}\")"
   ]
  },
  {
   "cell_type": "code",
   "execution_count": 79,
   "id": "57e22126",
   "metadata": {},
   "outputs": [],
   "source": [
    "def baseline(y_train,y_validate,target):\n",
    "    \n",
    "    '''a function to return our baseline and create a dataframe to hold all the models and their features'''\n",
    "    \n",
    "    # turning our series into a data frame\n",
    "    y_train = pd.DataFrame(y_train)\n",
    "    y_validate = pd.DataFrame(y_validate)\n",
    "    \n",
    "    \n",
    "     # predict target value mode\n",
    "    train_mode = y_train[target].mode()[0]\n",
    "    validate_mode = y_validate[target].mode()[0]\n",
    "   \n",
    "    # predict tax value mode\n",
    "    y_train[target + '_mode_baseline'] = train_mode\n",
    "    y_validate[target + '_mode_baseline'] = validate_mode\n",
    "    \n",
    "    matching_values = (y_train['hazardous'] == y_train['hazardous_mode_baseline']).sum()\n",
    "\n",
    "  # Calculate the baseline prediction\n",
    "    baseline_pred = [statistics.mode(y_train['hazardous'])] * len(y_train['hazardous'])\n",
    "\n",
    "    # Calculate the accuracy score\n",
    "    baseline_accuracy = accuracy_score(y_train['hazardous'], baseline_pred)\n",
    "    print(f\"Baseline Accuracy: {baseline_accuracy:.2f}\")\n",
    "\n",
    "    # Calculate the recall score\n",
    "    baseline_recall = recall_score(y_train['hazardous'], baseline_pred, average='macro')\n",
    "    print(f\"Baseline Recall: {baseline_recall:.2f}\")\n",
    "    \n",
    "    # creating a new series to hold our results of all model performance\n",
    "    evals = {'Recall': [baseline_recall], 'model': ['baseline']}\n",
    "\n",
    "    # creating a data frame from our series to pass on\n",
    "    evals = pd.DataFrame(data=evals)\n",
    "    \n",
    "    return y_train,y_validate,evals"
   ]
  },
  {
   "cell_type": "code",
   "execution_count": 80,
   "id": "addb5004",
   "metadata": {},
   "outputs": [
    {
     "name": "stdout",
     "output_type": "stream",
     "text": [
      "Baseline Accuracy: 0.90\n",
      "Baseline Recall: 0.50\n"
     ]
    }
   ],
   "source": [
    "y_train,y_validate,evals = baseline(y_train,y_validate,'hazardous')"
   ]
  },
  {
   "cell_type": "code",
   "execution_count": 81,
   "id": "00e67e4a",
   "metadata": {},
   "outputs": [
    {
     "data": {
      "text/html": [
       "<div>\n",
       "<style scoped>\n",
       "    .dataframe tbody tr th:only-of-type {\n",
       "        vertical-align: middle;\n",
       "    }\n",
       "\n",
       "    .dataframe tbody tr th {\n",
       "        vertical-align: top;\n",
       "    }\n",
       "\n",
       "    .dataframe thead th {\n",
       "        text-align: right;\n",
       "    }\n",
       "</style>\n",
       "<table border=\"1\" class=\"dataframe\">\n",
       "  <thead>\n",
       "    <tr style=\"text-align: right;\">\n",
       "      <th></th>\n",
       "      <th>Recall</th>\n",
       "      <th>model</th>\n",
       "    </tr>\n",
       "  </thead>\n",
       "  <tbody>\n",
       "    <tr>\n",
       "      <th>0</th>\n",
       "      <td>0.5</td>\n",
       "      <td>baseline</td>\n",
       "    </tr>\n",
       "  </tbody>\n",
       "</table>\n",
       "</div>"
      ],
      "text/plain": [
       "   Recall     model\n",
       "0     0.5  baseline"
      ]
     },
     "execution_count": 81,
     "metadata": {},
     "output_type": "execute_result"
    }
   ],
   "source": [
    "evals"
   ]
  },
  {
   "cell_type": "markdown",
   "id": "662e5a8d",
   "metadata": {},
   "source": [
    "# decision tree"
   ]
  },
  {
   "cell_type": "code",
   "execution_count": 82,
   "id": "e7ba2eb0",
   "metadata": {},
   "outputs": [],
   "source": [
    "def decision_tree(x_train, y_train, x_validate, y_validate, x_test, y_test, md):\n",
    "    clf = DecisionTreeClassifier(random_state=42)\n",
    "    results = []\n",
    "    for i in range(1, md+1):\n",
    "        clf = DecisionTreeClassifier(max_depth=i, random_state=42)\n",
    "        clf.fit(x_train, y_train['hazardous'])\n",
    "        \n",
    "        # Accuracy and precision for the training data\n",
    "        y_train_pred = clf.predict(x_train)\n",
    "        train_accuracy = accuracy_score(y_train['hazardous'], y_train_pred)\n",
    "        train_recall = recall_score(y_train['hazardous'], y_train_pred)\n",
    "       \n",
    "         # Accuracy and precision for the validate data\n",
    "        y_validate_pred = clf.predict(x_validate)\n",
    "        validate_accuracy = accuracy_score(y_validate['hazardous'], y_validate_pred)\n",
    "        validate_recall = recall_score(y_validate['hazardous'], y_validate_pred)\n",
    "    \n",
    "        # Accuracy and precision for the test data\n",
    "        y_test_pred = clf.predict(x_test)\n",
    "        test_accuracy = accuracy_score(y_test['hazardous'], y_test_pred)\n",
    "        test_recall = recall_score(y_test['hazardous'], y_test_pred)\n",
    "        \n",
    "        results.append({'Max Depth': i, \n",
    "                        'Train Accuracy': train_accuracy,\n",
    "                        'Train Recall': train_recall,\n",
    "                        'Validate Accuracy': validate_accuracy,\n",
    "                        'validate Recall': validate_recall,\n",
    "                        'Test Accuracy': test_accuracy,\n",
    "                        'Test Recall': test_recall})\n",
    "        \n",
    "    results_df = pd.DataFrame(results)\n",
    "    return results_df"
   ]
  },
  {
   "cell_type": "code",
   "execution_count": null,
   "id": "8119c9e0",
   "metadata": {},
   "outputs": [],
   "source": [
    "results = decision_tree(x_train, y_train, x_validate,y_validate, x_test, y_test, 20)"
   ]
  },
  {
   "cell_type": "code",
   "execution_count": 86,
   "id": "4130a739",
   "metadata": {
    "scrolled": true
   },
   "outputs": [
    {
     "data": {
      "text/html": [
       "<div>\n",
       "<style scoped>\n",
       "    .dataframe tbody tr th:only-of-type {\n",
       "        vertical-align: middle;\n",
       "    }\n",
       "\n",
       "    .dataframe tbody tr th {\n",
       "        vertical-align: top;\n",
       "    }\n",
       "\n",
       "    .dataframe thead th {\n",
       "        text-align: right;\n",
       "    }\n",
       "</style>\n",
       "<table border=\"1\" class=\"dataframe\">\n",
       "  <thead>\n",
       "    <tr style=\"text-align: right;\">\n",
       "      <th></th>\n",
       "      <th>Max Depth</th>\n",
       "      <th>Train Accuracy</th>\n",
       "      <th>Train Recall</th>\n",
       "      <th>Validate Accuracy</th>\n",
       "      <th>validate Recall</th>\n",
       "      <th>Test Accuracy</th>\n",
       "      <th>Test Recall</th>\n",
       "    </tr>\n",
       "  </thead>\n",
       "  <tbody>\n",
       "    <tr>\n",
       "      <th>19</th>\n",
       "      <td>20</td>\n",
       "      <td>0.954587</td>\n",
       "      <td>0.565455</td>\n",
       "      <td>0.903353</td>\n",
       "      <td>0.295476</td>\n",
       "      <td>0.902466</td>\n",
       "      <td>0.305995</td>\n",
       "    </tr>\n",
       "  </tbody>\n",
       "</table>\n",
       "</div>"
      ],
      "text/plain": [
       "    Max Depth  Train Accuracy  Train Recall  Validate Accuracy  \\\n",
       "19         20        0.954587      0.565455           0.903353   \n",
       "\n",
       "    validate Recall  Test Accuracy  Test Recall  \n",
       "19         0.295476       0.902466     0.305995  "
      ]
     },
     "execution_count": 86,
     "metadata": {},
     "output_type": "execute_result"
    }
   ],
   "source": [
    "results.sort_values(by = \"Test Recall\").tail(1)"
   ]
  },
  {
   "cell_type": "code",
   "execution_count": 57,
   "id": "ff9f6fef",
   "metadata": {},
   "outputs": [],
   "source": [
    "# take aways: \n",
    "# a decision tree with the max depth of 20 has the highest recall as .30%"
   ]
  },
  {
   "cell_type": "code",
   "execution_count": 90,
   "id": "6e4f19a3",
   "metadata": {},
   "outputs": [],
   "source": [
    "def add_dt_test(x_train, y_train, x_test, y_test, md,evals):\n",
    "    \n",
    "    clf = DecisionTreeClassifier(max_depth=md, random_state=42)\n",
    "    \n",
    "    clf.fit(x_train, y_train['hazardous'])\n",
    "    \n",
    "    # Accuracy and precision for the test data\n",
    "    y_test_pred = clf.predict(x_test)\n",
    "    test_accuracy = accuracy_score(y_test['hazardous'], y_test_pred)\n",
    "    test_recall = recall_score(y_test['hazardous'], y_test_pred)\n",
    "    \n",
    "    decision = {'Recall': test_recall, 'model': 'decision tree'}\n",
    "    evals = evals.append(decision, ignore_index = True)\n",
    "    \n",
    "    return evals\n",
    "    \n",
    "    \n",
    "    "
   ]
  },
  {
   "cell_type": "code",
   "execution_count": 94,
   "id": "567e8e47",
   "metadata": {},
   "outputs": [],
   "source": [
    "evals= add_dt_test(x_train, y_train, x_test, y_test, 20,evals)\n"
   ]
  },
  {
   "cell_type": "code",
   "execution_count": 95,
   "id": "91467ad7",
   "metadata": {},
   "outputs": [
    {
     "data": {
      "text/html": [
       "<div>\n",
       "<style scoped>\n",
       "    .dataframe tbody tr th:only-of-type {\n",
       "        vertical-align: middle;\n",
       "    }\n",
       "\n",
       "    .dataframe tbody tr th {\n",
       "        vertical-align: top;\n",
       "    }\n",
       "\n",
       "    .dataframe thead th {\n",
       "        text-align: right;\n",
       "    }\n",
       "</style>\n",
       "<table border=\"1\" class=\"dataframe\">\n",
       "  <thead>\n",
       "    <tr style=\"text-align: right;\">\n",
       "      <th></th>\n",
       "      <th>Recall</th>\n",
       "      <th>model</th>\n",
       "    </tr>\n",
       "  </thead>\n",
       "  <tbody>\n",
       "    <tr>\n",
       "      <th>0</th>\n",
       "      <td>0.500000</td>\n",
       "      <td>baseline</td>\n",
       "    </tr>\n",
       "    <tr>\n",
       "      <th>1</th>\n",
       "      <td>0.305995</td>\n",
       "      <td>decision tree</td>\n",
       "    </tr>\n",
       "  </tbody>\n",
       "</table>\n",
       "</div>"
      ],
      "text/plain": [
       "     Recall          model\n",
       "0  0.500000       baseline\n",
       "1  0.305995  decision tree"
      ]
     },
     "execution_count": 95,
     "metadata": {},
     "output_type": "execute_result"
    }
   ],
   "source": [
    "evals"
   ]
  },
  {
   "cell_type": "markdown",
   "id": "ec9eaa28",
   "metadata": {},
   "source": [
    "# random forest"
   ]
  },
  {
   "cell_type": "code",
   "execution_count": 97,
   "id": "8cba805f",
   "metadata": {},
   "outputs": [],
   "source": [
    "def random_forest(x_train, y_train, x_validate, y_validate, x_test, y_test, md):\n",
    "    clf = RandomForestClassifier(random_state=42)\n",
    "    results = []\n",
    "    for i in range(1, md+1):\n",
    "        clf = RandomForestClassifier(max_depth=i, random_state=42)\n",
    "        \n",
    "        clf.fit(x_train, y_train['hazardous'])\n",
    "        \n",
    "        # Accuracy and precision for the training data\n",
    "        y_train_pred = clf.predict(x_train)\n",
    "        train_accuracy = accuracy_score(y_train['hazardous'], y_train_pred)\n",
    "        train_recall = recall_score(y_train['hazardous'], y_train_pred)\n",
    "       \n",
    "         # Accuracy and precision for the validate data\n",
    "        y_validate_pred = clf.predict(x_validate)\n",
    "        validate_accuracy = accuracy_score(y_validate['hazardous'], y_validate_pred)\n",
    "        validate_recall = recall_score(y_validate['hazardous'], y_validate_pred)\n",
    "    \n",
    "        # Accuracy and precision for the test data\n",
    "        y_test_pred = clf.predict(x_test)\n",
    "        test_accuracy = accuracy_score(y_test['hazardous'], y_test_pred)\n",
    "        test_recall = recall_score(y_test['hazardous'], y_test_pred)\n",
    "        \n",
    "        results.append({'Max Depth': i, \n",
    "                        'Train Accuracy': train_accuracy,\n",
    "                        'Train Recall': train_recall,\n",
    "                        'Validate Accuracy': validate_accuracy,\n",
    "                        'validate Recall': validate_recall,\n",
    "                        'Test Accuracy': test_accuracy,\n",
    "                        'Test Recall': test_recall})\n",
    "    results_df = pd.DataFrame(results)\n",
    "    return results_df"
   ]
  },
  {
   "cell_type": "code",
   "execution_count": 98,
   "id": "e9b2bb5f",
   "metadata": {},
   "outputs": [],
   "source": [
    "results_df = random_forest(x_train, y_train, x_validate, y_validate, x_test, y_test, 20)"
   ]
  },
  {
   "cell_type": "code",
   "execution_count": 100,
   "id": "863e66d8",
   "metadata": {},
   "outputs": [
    {
     "data": {
      "text/html": [
       "<div>\n",
       "<style scoped>\n",
       "    .dataframe tbody tr th:only-of-type {\n",
       "        vertical-align: middle;\n",
       "    }\n",
       "\n",
       "    .dataframe tbody tr th {\n",
       "        vertical-align: top;\n",
       "    }\n",
       "\n",
       "    .dataframe thead th {\n",
       "        text-align: right;\n",
       "    }\n",
       "</style>\n",
       "<table border=\"1\" class=\"dataframe\">\n",
       "  <thead>\n",
       "    <tr style=\"text-align: right;\">\n",
       "      <th></th>\n",
       "      <th>Max Depth</th>\n",
       "      <th>Train Accuracy</th>\n",
       "      <th>Train Recall</th>\n",
       "      <th>Validate Accuracy</th>\n",
       "      <th>validate Recall</th>\n",
       "      <th>Test Accuracy</th>\n",
       "      <th>Test Recall</th>\n",
       "    </tr>\n",
       "  </thead>\n",
       "  <tbody>\n",
       "    <tr>\n",
       "      <th>19</th>\n",
       "      <td>20</td>\n",
       "      <td>0.962746</td>\n",
       "      <td>0.617778</td>\n",
       "      <td>0.917252</td>\n",
       "      <td>0.279925</td>\n",
       "      <td>0.920244</td>\n",
       "      <td>0.313348</td>\n",
       "    </tr>\n",
       "  </tbody>\n",
       "</table>\n",
       "</div>"
      ],
      "text/plain": [
       "    Max Depth  Train Accuracy  Train Recall  Validate Accuracy  \\\n",
       "19         20        0.962746      0.617778           0.917252   \n",
       "\n",
       "    validate Recall  Test Accuracy  Test Recall  \n",
       "19         0.279925       0.920244     0.313348  "
      ]
     },
     "execution_count": 100,
     "metadata": {},
     "output_type": "execute_result"
    }
   ],
   "source": [
    "results_df.sort_values(by = 'Test Recall').tail(1)"
   ]
  },
  {
   "cell_type": "code",
   "execution_count": 101,
   "id": "80e7e8ab",
   "metadata": {},
   "outputs": [],
   "source": [
    "def random_forest(x_train, y_train, x_validate, y_validate, x_test, y_test, n_estimators, max_depth):\n",
    "    results = []\n",
    "    for n in n_estimators:\n",
    "        for d in max_depth:\n",
    "            clf = RandomForestClassifier(n_estimators=n, max_depth=d, random_state=42)\n",
    "            clf.fit(x_train, y_train['hazardous'])\n",
    "\n",
    "            # Accuracy and precision for the training data\n",
    "            y_train_pred = clf.predict(x_train)\n",
    "            train_accuracy = accuracy_score(y_train['hazardous'], y_train_pred)\n",
    "            train_recall = recall_score(y_train['hazardous'], y_train_pred)\n",
    "\n",
    "            # Accuracy and precision for the validate data\n",
    "            y_validate_pred = clf.predict(x_validate)\n",
    "            validate_accuracy = accuracy_score(y_validate['hazardous'], y_validate_pred)\n",
    "            validate_recall = recall_score(y_validate['hazardous'], y_validate_pred)\n",
    "\n",
    "            # Accuracy and precision for the test data\n",
    "            y_test_pred = clf.predict(x_test)\n",
    "            test_accuracy = accuracy_score(y_test['hazardous'], y_test_pred)\n",
    "            test_recall = recall_score(y_test['hazardous'], y_test_pred)\n",
    "\n",
    "            results.append({'n_estimators': n,\n",
    "                            'max_depth': d,\n",
    "                            'Train Accuracy': train_accuracy,\n",
    "                            'Train Recall': train_recall,\n",
    "                            'Validate Accuracy': validate_accuracy,\n",
    "                            'validate Recall': validate_recall,\n",
    "                            'Test Accuracy': test_accuracy,\n",
    "                            'Test Recall': test_recall})\n",
    "    results_df = pd.DataFrame(results)\n",
    "    return results_df"
   ]
  },
  {
   "cell_type": "code",
   "execution_count": 102,
   "id": "515f7ca0",
   "metadata": {},
   "outputs": [],
   "source": [
    "n_estimators = range(1, 10)\n",
    "max_depth = range(1, 10)\n"
   ]
  },
  {
   "cell_type": "code",
   "execution_count": 103,
   "id": "a3610e0b",
   "metadata": {},
   "outputs": [],
   "source": [
    "results_df = random_forest(x_train, y_train, x_validate, y_validate, x_test, y_test, n_estimators, max_depth)\n"
   ]
  },
  {
   "cell_type": "code",
   "execution_count": 104,
   "id": "450b9d90",
   "metadata": {
    "scrolled": true
   },
   "outputs": [
    {
     "data": {
      "text/html": [
       "<div>\n",
       "<style scoped>\n",
       "    .dataframe tbody tr th:only-of-type {\n",
       "        vertical-align: middle;\n",
       "    }\n",
       "\n",
       "    .dataframe tbody tr th {\n",
       "        vertical-align: top;\n",
       "    }\n",
       "\n",
       "    .dataframe thead th {\n",
       "        text-align: right;\n",
       "    }\n",
       "</style>\n",
       "<table border=\"1\" class=\"dataframe\">\n",
       "  <thead>\n",
       "    <tr style=\"text-align: right;\">\n",
       "      <th></th>\n",
       "      <th>n_estimators</th>\n",
       "      <th>max_depth</th>\n",
       "      <th>Train Accuracy</th>\n",
       "      <th>Train Recall</th>\n",
       "      <th>Validate Accuracy</th>\n",
       "      <th>validate Recall</th>\n",
       "      <th>Test Accuracy</th>\n",
       "      <th>Test Recall</th>\n",
       "    </tr>\n",
       "  </thead>\n",
       "  <tbody>\n",
       "    <tr>\n",
       "      <th>4</th>\n",
       "      <td>1</td>\n",
       "      <td>5</td>\n",
       "      <td>0.912065</td>\n",
       "      <td>0.188687</td>\n",
       "      <td>0.910371</td>\n",
       "      <td>0.18426</td>\n",
       "      <td>0.912869</td>\n",
       "      <td>0.199095</td>\n",
       "    </tr>\n",
       "  </tbody>\n",
       "</table>\n",
       "</div>"
      ],
      "text/plain": [
       "   n_estimators  max_depth  Train Accuracy  Train Recall  Validate Accuracy  \\\n",
       "4             1          5        0.912065      0.188687           0.910371   \n",
       "\n",
       "   validate Recall  Test Accuracy  Test Recall  \n",
       "4          0.18426       0.912869     0.199095  "
      ]
     },
     "execution_count": 104,
     "metadata": {},
     "output_type": "execute_result"
    }
   ],
   "source": [
    "results_df.sort_values(by = 'Test Recall').tail(1)"
   ]
  },
  {
   "cell_type": "code",
   "execution_count": null,
   "id": "89eaa8a8",
   "metadata": {},
   "outputs": [],
   "source": [
    "# these setting gave us our best test precision"
   ]
  },
  {
   "cell_type": "markdown",
   "id": "d778eb65",
   "metadata": {},
   "source": [
    "# knn "
   ]
  },
  {
   "cell_type": "code",
   "execution_count": 105,
   "id": "632dea2b",
   "metadata": {},
   "outputs": [],
   "source": [
    "def get_knn(x_train, y_train, x_validate, y_validate, x_test, y_test, nn):\n",
    "    \n",
    "    weights = ['uniform', 'distance']\n",
    "    results = []\n",
    "    for i in range(1, nn+1):\n",
    "        for w in weights:\n",
    "            knn = KNeighborsClassifier(n_neighbors=nn, weights= w )\n",
    "\n",
    "            knn.fit(x_train, y_train['hazardous'])\n",
    "        \n",
    "            # Accuracy and precision for the training data\n",
    "            y_train_pred = knn.predict(x_train)\n",
    "            train_accuracy = accuracy_score(y_train['hazardous'], y_train_pred)\n",
    "            train_recall = recall_score(y_train['hazardous'], y_train_pred)\n",
    "       \n",
    "            # Accuracy and precision for the validate data\n",
    "            y_validate_pred = knn.predict(x_validate)\n",
    "            validate_accuracy = accuracy_score(y_validate['hazardous'], y_validate_pred)\n",
    "            validate_recall = recall_score(y_validate['hazardous'], y_validate_pred)\n",
    "    \n",
    "            # Accuracy and precision for the test data\n",
    "            y_test_pred = knn.predict(x_test)\n",
    "            test_accuracy = accuracy_score(y_test['hazardous'], y_test_pred)\n",
    "            test_recall = recall_score(y_test['hazardous'], y_test_pred)\n",
    "        \n",
    "            results.append({'N_neighbors': i, \n",
    "                        'Weights': w,\n",
    "                        'Train Accuracy': train_accuracy,\n",
    "                        'Train Recall': train_recall,\n",
    "                        'Validate Accuracy': validate_accuracy,\n",
    "                        'validate Recall': validate_recall,\n",
    "                        'Test Accuracy': test_accuracy,\n",
    "                        'Test Recall': test_recall})\n",
    "        \n",
    "    results_df = pd.DataFrame(results)\n",
    "    return results_df"
   ]
  },
  {
   "cell_type": "code",
   "execution_count": 106,
   "id": "e1e026af",
   "metadata": {},
   "outputs": [],
   "source": [
    "results_df = get_knn(x_train, y_train, x_validate, y_validate, x_test, y_test, 40)\n"
   ]
  },
  {
   "cell_type": "code",
   "execution_count": 107,
   "id": "a1b3ccd8",
   "metadata": {},
   "outputs": [
    {
     "data": {
      "text/html": [
       "<div>\n",
       "<style scoped>\n",
       "    .dataframe tbody tr th:only-of-type {\n",
       "        vertical-align: middle;\n",
       "    }\n",
       "\n",
       "    .dataframe tbody tr th {\n",
       "        vertical-align: top;\n",
       "    }\n",
       "\n",
       "    .dataframe thead th {\n",
       "        text-align: right;\n",
       "    }\n",
       "</style>\n",
       "<table border=\"1\" class=\"dataframe\">\n",
       "  <thead>\n",
       "    <tr style=\"text-align: right;\">\n",
       "      <th></th>\n",
       "      <th>N_neighbors</th>\n",
       "      <th>Weights</th>\n",
       "      <th>Train Accuracy</th>\n",
       "      <th>Train Recall</th>\n",
       "      <th>Validate Accuracy</th>\n",
       "      <th>validate Recall</th>\n",
       "      <th>Test Accuracy</th>\n",
       "      <th>Test Recall</th>\n",
       "    </tr>\n",
       "  </thead>\n",
       "  <tbody>\n",
       "    <tr>\n",
       "      <th>79</th>\n",
       "      <td>40</td>\n",
       "      <td>distance</td>\n",
       "      <td>1.0</td>\n",
       "      <td>1.0</td>\n",
       "      <td>0.904958</td>\n",
       "      <td>0.03393</td>\n",
       "      <td>0.904668</td>\n",
       "      <td>0.029412</td>\n",
       "    </tr>\n",
       "  </tbody>\n",
       "</table>\n",
       "</div>"
      ],
      "text/plain": [
       "    N_neighbors   Weights  Train Accuracy  Train Recall  Validate Accuracy  \\\n",
       "79           40  distance             1.0           1.0           0.904958   \n",
       "\n",
       "    validate Recall  Test Accuracy  Test Recall  \n",
       "79          0.03393       0.904668     0.029412  "
      ]
     },
     "execution_count": 107,
     "metadata": {},
     "output_type": "execute_result"
    }
   ],
   "source": [
    "results_df.sort_values(by = 'Test Recall').tail(1)"
   ]
  },
  {
   "cell_type": "markdown",
   "id": "cac36cd9",
   "metadata": {},
   "source": [
    "# XGBoost"
   ]
  },
  {
   "cell_type": "code",
   "execution_count": 111,
   "id": "bc65beed",
   "metadata": {
    "scrolled": true
   },
   "outputs": [
    {
     "data": {
      "text/html": [
       "<div>\n",
       "<style scoped>\n",
       "    .dataframe tbody tr th:only-of-type {\n",
       "        vertical-align: middle;\n",
       "    }\n",
       "\n",
       "    .dataframe tbody tr th {\n",
       "        vertical-align: top;\n",
       "    }\n",
       "\n",
       "    .dataframe thead th {\n",
       "        text-align: right;\n",
       "    }\n",
       "</style>\n",
       "<table border=\"1\" class=\"dataframe\">\n",
       "  <thead>\n",
       "    <tr style=\"text-align: right;\">\n",
       "      <th></th>\n",
       "      <th>scale_pos_weight</th>\n",
       "      <th>learning_rate</th>\n",
       "      <th>max_depth</th>\n",
       "      <th>Train Accuracy</th>\n",
       "      <th>Train Recall</th>\n",
       "      <th>Validate Accuracy</th>\n",
       "      <th>Validate Recall</th>\n",
       "      <th>Test Accuracy</th>\n",
       "      <th>Test Recall</th>\n",
       "    </tr>\n",
       "  </thead>\n",
       "  <tbody>\n",
       "    <tr>\n",
       "      <th>7</th>\n",
       "      <td>5</td>\n",
       "      <td>0.01</td>\n",
       "      <td>1</td>\n",
       "      <td>0.773783</td>\n",
       "      <td>0.993131</td>\n",
       "      <td>0.772442</td>\n",
       "      <td>0.990575</td>\n",
       "      <td>0.775099</td>\n",
       "      <td>0.993778</td>\n",
       "    </tr>\n",
       "  </tbody>\n",
       "</table>\n",
       "</div>"
      ],
      "text/plain": [
       "   scale_pos_weight  learning_rate  max_depth  Train Accuracy  Train Recall  \\\n",
       "7                 5           0.01          1        0.773783      0.993131   \n",
       "\n",
       "   Validate Accuracy  Validate Recall  Test Accuracy  Test Recall  \n",
       "7           0.772442         0.990575       0.775099     0.993778  "
      ]
     },
     "execution_count": 111,
     "metadata": {},
     "output_type": "execute_result"
    }
   ],
   "source": [
    "results.sort_values(by = 'Test Recall').tail(1)"
   ]
  },
  {
   "cell_type": "code",
   "execution_count": 69,
   "id": "c8f1fedf",
   "metadata": {},
   "outputs": [],
   "source": [
    "clf_xgb = xgb.XGBClassifier(objective ='binary:logistic', \n",
    "                                        seed = 42,\n",
    "                                        max_depth = 3,    \n",
    "                                        scale_pos_weight= 5,\n",
    "                                        learning_rate = .01,\n",
    "                                        subsample = .9,\n",
    "                                        colsample_bytree = .5,\n",
    "                                        n_jobs = 10)"
   ]
  },
  {
   "cell_type": "code",
   "execution_count": 70,
   "id": "258aab70",
   "metadata": {},
   "outputs": [],
   "source": [
    "clf_xgb.fit(x_train,y_train['hazardous'],verbose = True)\n",
    "None"
   ]
  },
  {
   "cell_type": "code",
   "execution_count": 68,
   "id": "1bfbaab0",
   "metadata": {},
   "outputs": [
    {
     "data": {
      "text/html": [
       "<div>\n",
       "<style scoped>\n",
       "    .dataframe tbody tr th:only-of-type {\n",
       "        vertical-align: middle;\n",
       "    }\n",
       "\n",
       "    .dataframe tbody tr th {\n",
       "        vertical-align: top;\n",
       "    }\n",
       "\n",
       "    .dataframe thead th {\n",
       "        text-align: right;\n",
       "    }\n",
       "</style>\n",
       "<table border=\"1\" class=\"dataframe\">\n",
       "  <thead>\n",
       "    <tr style=\"text-align: right;\">\n",
       "      <th></th>\n",
       "      <th>scale_pos_weight</th>\n",
       "      <th>learning_rate</th>\n",
       "      <th>max_depth</th>\n",
       "      <th>Train Accuracy</th>\n",
       "      <th>Train Recall</th>\n",
       "      <th>Validate Accuracy</th>\n",
       "      <th>Validate Recall</th>\n",
       "      <th>Test Accuracy</th>\n",
       "      <th>Test Recall</th>\n",
       "    </tr>\n",
       "  </thead>\n",
       "  <tbody>\n",
       "    <tr>\n",
       "      <th>7</th>\n",
       "      <td>5</td>\n",
       "      <td>0.01</td>\n",
       "      <td>3</td>\n",
       "      <td>0.786482</td>\n",
       "      <td>0.989495</td>\n",
       "      <td>0.784918</td>\n",
       "      <td>0.983506</td>\n",
       "      <td>0.78996</td>\n",
       "      <td>0.988122</td>\n",
       "    </tr>\n",
       "  </tbody>\n",
       "</table>\n",
       "</div>"
      ],
      "text/plain": [
       "   scale_pos_weight  learning_rate  max_depth  Train Accuracy  Train Recall  \\\n",
       "7                 5           0.01          3        0.786482      0.989495   \n",
       "\n",
       "   Validate Accuracy  Validate Recall  Test Accuracy  Test Recall  \n",
       "7           0.784918         0.983506        0.78996     0.988122  "
      ]
     },
     "execution_count": 68,
     "metadata": {},
     "output_type": "execute_result"
    }
   ],
   "source": [
    "results.sort_values(by = 'Test Recall').tail(1)"
   ]
  },
  {
   "cell_type": "code",
   "execution_count": 71,
   "id": "e53aabe5",
   "metadata": {},
   "outputs": [],
   "source": [
    "preds = clf_xgb.predict(x_test)"
   ]
  },
  {
   "cell_type": "code",
   "execution_count": 72,
   "id": "8c436d59",
   "metadata": {},
   "outputs": [
    {
     "data": {
      "text/plain": [
       "array([1, 0, 0, ..., 0, 0, 0])"
      ]
     },
     "execution_count": 72,
     "metadata": {},
     "output_type": "execute_result"
    }
   ],
   "source": [
    "preds"
   ]
  },
  {
   "cell_type": "code",
   "execution_count": 73,
   "id": "6e07e396",
   "metadata": {},
   "outputs": [],
   "source": [
    "test_accuracy = accuracy_score(y_test['hazardous'],preds)\n",
    "test_recall = recall_score(y_test['hazardous'],preds)"
   ]
  },
  {
   "cell_type": "code",
   "execution_count": 74,
   "id": "ceb56035",
   "metadata": {},
   "outputs": [
    {
     "data": {
      "text/plain": [
       "(0.7899603698811096, 0.9881221719457014)"
      ]
     },
     "execution_count": 74,
     "metadata": {},
     "output_type": "execute_result"
    }
   ],
   "source": [
    "test_accuracy ,test_recall"
   ]
  },
  {
   "cell_type": "code",
   "execution_count": 76,
   "id": "b0dc4561",
   "metadata": {},
   "outputs": [
    {
     "data": {
      "text/plain": [
       "array([[12605,  3795],\n",
       "       [   21,  1747]])"
      ]
     },
     "execution_count": 76,
     "metadata": {},
     "output_type": "execute_result"
    }
   ],
   "source": [
    "confusion_matrix(y_test['hazardous'],preds)"
   ]
  },
  {
   "cell_type": "code",
   "execution_count": 77,
   "id": "a21a998e",
   "metadata": {},
   "outputs": [
    {
     "data": {
      "text/plain": [
       "<sklearn.metrics._plot.confusion_matrix.ConfusionMatrixDisplay at 0x7fa057feee80>"
      ]
     },
     "execution_count": 77,
     "metadata": {},
     "output_type": "execute_result"
    },
    {
     "data": {
      "image/png": "[encoded data removed]",
      "text/plain": [
       "<Figure size 640x480 with 2 Axes>"
      ]
     },
     "metadata": {},
     "output_type": "display_data"
    }
   ],
   "source": [
    "plot_confusion_matrix(clf_xgb,\n",
    "                      x_test,\n",
    "                      y_test,\n",
    "                      values_format = 'd',\n",
    "                       display_labels = [ 'Inert','Hazardous'])\n",
    "                      "
   ]
  },
  {
   "cell_type": "code",
   "execution_count": 78,
   "id": "8643b93b",
   "metadata": {},
   "outputs": [
    {
     "data": {
      "text/plain": [
       "0.9881221719457014"
      ]
     },
     "execution_count": 78,
     "metadata": {},
     "output_type": "execute_result"
    }
   ],
   "source": [
    "1747/( 1747+ 21)"
   ]
  },
  {
   "cell_type": "code",
   "execution_count": null,
   "id": "52f044c3",
   "metadata": {},
   "outputs": [],
   "source": []
  },
  {
   "cell_type": "code",
   "execution_count": 63,
   "id": "09f2b3d8",
   "metadata": {},
   "outputs": [],
   "source": [
    "def xg_boost1(x_train, y_train, x_validate, y_validate, x_test, y_test, max_depth, scale_pos_weight, learning_rate):\n",
    "    results = []\n",
    "\n",
    "    for md in max_depth:\n",
    "        for sw in scale_pos_weight:\n",
    "            for lr in learning_rate:\n",
    "                clf_xgb = xgb.XGBClassifier(objective='binary:logistic',\n",
    "                                            random_state=42,\n",
    "                                            max_depth=md,\n",
    "                                            scale_pos_weight=sw,\n",
    "                                            learning_rate=lr,\n",
    "                                            subsample=.9,\n",
    "                                            colsample_bytree=.5,\n",
    "                                            n_jobs=10)\n",
    "\n",
    "                clf_xgb.fit(x_train, y_train['hazardous'], verbose=False)\n",
    "\n",
    "                # Accuracy and recall for the training data\n",
    "                y_train_pred = clf_xgb.predict(x_train)\n",
    "                train_accuracy = accuracy_score(y_train['hazardous'], y_train_pred)\n",
    "                train_recall = recall_score(y_train['hazardous'], y_train_pred)\n",
    "\n",
    "                # Accuracy and recall for the validate data\n",
    "                y_validate_pred = clf_xgb.predict(x_validate)\n",
    "                validate_accuracy = accuracy_score(y_validate['hazardous'], y_validate_pred)\n",
    "                validate_recall = recall_score(y_validate['hazardous'], y_validate_pred)\n",
    "\n",
    "                # Accuracy and recall for the test data\n",
    "                y_test_pred = clf_xgb.predict(x_test)\n",
    "                test_accuracy = accuracy_score(y_test['hazardous'], y_test_pred)\n",
    "                test_recall = recall_score(y_test['hazardous'], y_test_pred)\n",
    "\n",
    "                # Append results to the list\n",
    "                results.append({'scale_pos_weight': sw,\n",
    "                                'learning_rate': lr,\n",
    "                                'max_depth': md,\n",
    "                                'Train Accuracy': train_accuracy,\n",
    "                                'Train Recall': train_recall,\n",
    "                                'Validate Accuracy': validate_accuracy,\n",
    "                                'Validate Recall': validate_recall,\n",
    "                                'Test Accuracy': test_accuracy,\n",
    "                                'Test Recall': test_recall})\n",
    "\n",
    "                # Print results\n",
    "                print(f\"max_depth: {md}, scale_pos_weight: {sw}, learning_rate: {lr}, Train Recall: {train_recall:.4f}, Validate Recall: {validate_recall:.4f}, Test Recall: {test_recall:.4f}\")\n",
    "\n",
    "    # Convert results list to DataFrame and return\n",
    "    results_df = pd.DataFrame(results)\n",
    "    return results_df"
   ]
  },
  {
   "cell_type": "code",
   "execution_count": 64,
   "id": "f0cfca3a",
   "metadata": {},
   "outputs": [],
   "source": [
    "max_depth = [3,4,5]\n",
    "scale_pos_weight=[1,3,5]\n",
    "learning_rate = [.1,.01,.05]"
   ]
  },
  {
   "cell_type": "code",
   "execution_count": 108,
   "id": "3a1a4dbc",
   "metadata": {},
   "outputs": [
    {
     "name": "stdout",
     "output_type": "stream",
     "text": [
      "max_depth: 1, scale_pos_weight: 1, learning_rate: 0.1, Train Recall: 0.1154, Validate Recall: 0.1008, Test Recall: 0.1205\n",
      "max_depth: 1, scale_pos_weight: 1, learning_rate: 0.01, Train Recall: 0.0000, Validate Recall: 0.0000, Test Recall: 0.0000\n",
      "max_depth: 1, scale_pos_weight: 1, learning_rate: 0.05, Train Recall: 0.0000, Validate Recall: 0.0000, Test Recall: 0.0000\n",
      "max_depth: 1, scale_pos_weight: 3, learning_rate: 0.1, Train Recall: 0.9465, Validate Recall: 0.9444, Test Recall: 0.9485\n",
      "max_depth: 1, scale_pos_weight: 3, learning_rate: 0.01, Train Recall: 0.9903, Validate Recall: 0.9892, Test Recall: 0.9893\n",
      "max_depth: 1, scale_pos_weight: 3, learning_rate: 0.05, Train Recall: 0.9762, Validate Recall: 0.9713, Test Recall: 0.9762\n",
      "max_depth: 1, scale_pos_weight: 5, learning_rate: 0.1, Train Recall: 0.9889, Validate Recall: 0.9826, Test Recall: 0.9870\n",
      "max_depth: 1, scale_pos_weight: 5, learning_rate: 0.01, Train Recall: 0.9931, Validate Recall: 0.9906, Test Recall: 0.9938\n",
      "max_depth: 1, scale_pos_weight: 5, learning_rate: 0.05, Train Recall: 0.9887, Validate Recall: 0.9826, Test Recall: 0.9881\n",
      "max_depth: 2, scale_pos_weight: 1, learning_rate: 0.1, Train Recall: 0.1327, Validate Recall: 0.1244, Test Recall: 0.1403\n",
      "max_depth: 2, scale_pos_weight: 1, learning_rate: 0.01, Train Recall: 0.0877, Validate Recall: 0.0787, Test Recall: 0.0916\n",
      "max_depth: 2, scale_pos_weight: 1, learning_rate: 0.05, Train Recall: 0.1196, Validate Recall: 0.1093, Test Recall: 0.1290\n",
      "max_depth: 2, scale_pos_weight: 3, learning_rate: 0.1, Train Recall: 0.8121, Validate Recall: 0.8082, Test Recall: 0.8083\n",
      "max_depth: 2, scale_pos_weight: 3, learning_rate: 0.01, Train Recall: 0.9457, Validate Recall: 0.9430, Test Recall: 0.9468\n",
      "max_depth: 2, scale_pos_weight: 3, learning_rate: 0.05, Train Recall: 0.8467, Validate Recall: 0.8450, Test Recall: 0.8399\n",
      "max_depth: 2, scale_pos_weight: 5, learning_rate: 0.1, Train Recall: 0.9834, Validate Recall: 0.9774, Test Recall: 0.9825\n",
      "max_depth: 2, scale_pos_weight: 5, learning_rate: 0.01, Train Recall: 0.9875, Validate Recall: 0.9807, Test Recall: 0.9864\n",
      "max_depth: 2, scale_pos_weight: 5, learning_rate: 0.05, Train Recall: 0.9875, Validate Recall: 0.9811, Test Recall: 0.9864\n",
      "max_depth: 3, scale_pos_weight: 1, learning_rate: 0.1, Train Recall: 0.1396, Validate Recall: 0.1305, Test Recall: 0.1499\n",
      "max_depth: 3, scale_pos_weight: 1, learning_rate: 0.01, Train Recall: 0.0800, Validate Recall: 0.0679, Test Recall: 0.0775\n",
      "max_depth: 3, scale_pos_weight: 1, learning_rate: 0.05, Train Recall: 0.1244, Validate Recall: 0.1117, Test Recall: 0.1301\n",
      "max_depth: 3, scale_pos_weight: 3, learning_rate: 0.1, Train Recall: 0.8125, Validate Recall: 0.7964, Test Recall: 0.7992\n",
      "max_depth: 3, scale_pos_weight: 3, learning_rate: 0.01, Train Recall: 0.7972, Validate Recall: 0.7945, Test Recall: 0.7902\n",
      "max_depth: 3, scale_pos_weight: 3, learning_rate: 0.05, Train Recall: 0.8143, Validate Recall: 0.8073, Test Recall: 0.8122\n",
      "max_depth: 3, scale_pos_weight: 5, learning_rate: 0.1, Train Recall: 0.9844, Validate Recall: 0.9750, Test Recall: 0.9836\n",
      "max_depth: 3, scale_pos_weight: 5, learning_rate: 0.01, Train Recall: 0.9895, Validate Recall: 0.9835, Test Recall: 0.9881\n",
      "max_depth: 3, scale_pos_weight: 5, learning_rate: 0.05, Train Recall: 0.9855, Validate Recall: 0.9802, Test Recall: 0.9830\n",
      "max_depth: 4, scale_pos_weight: 1, learning_rate: 0.1, Train Recall: 0.1491, Validate Recall: 0.1362, Test Recall: 0.1567\n",
      "max_depth: 4, scale_pos_weight: 1, learning_rate: 0.01, Train Recall: 0.0802, Validate Recall: 0.0697, Test Recall: 0.0798\n",
      "max_depth: 4, scale_pos_weight: 1, learning_rate: 0.05, Train Recall: 0.1277, Validate Recall: 0.1145, Test Recall: 0.1346\n",
      "max_depth: 4, scale_pos_weight: 3, learning_rate: 0.1, Train Recall: 0.8232, Validate Recall: 0.7992, Test Recall: 0.8071\n",
      "max_depth: 4, scale_pos_weight: 3, learning_rate: 0.01, Train Recall: 0.8014, Validate Recall: 0.7974, Test Recall: 0.7969\n",
      "max_depth: 4, scale_pos_weight: 3, learning_rate: 0.05, Train Recall: 0.8313, Validate Recall: 0.8172, Test Recall: 0.8235\n",
      "max_depth: 4, scale_pos_weight: 5, learning_rate: 0.1, Train Recall: 0.9851, Validate Recall: 0.9708, Test Recall: 0.9774\n",
      "max_depth: 4, scale_pos_weight: 5, learning_rate: 0.01, Train Recall: 0.9893, Validate Recall: 0.9826, Test Recall: 0.9853\n",
      "max_depth: 4, scale_pos_weight: 5, learning_rate: 0.05, Train Recall: 0.9863, Validate Recall: 0.9774, Test Recall: 0.9813\n",
      "max_depth: 5, scale_pos_weight: 1, learning_rate: 0.1, Train Recall: 0.1636, Validate Recall: 0.1489, Test Recall: 0.1635\n",
      "max_depth: 5, scale_pos_weight: 1, learning_rate: 0.01, Train Recall: 0.0873, Validate Recall: 0.0721, Test Recall: 0.0837\n",
      "max_depth: 5, scale_pos_weight: 1, learning_rate: 0.05, Train Recall: 0.1343, Validate Recall: 0.1192, Test Recall: 0.1403\n",
      "max_depth: 5, scale_pos_weight: 3, learning_rate: 0.1, Train Recall: 0.8372, Validate Recall: 0.7865, Test Recall: 0.8066\n",
      "max_depth: 5, scale_pos_weight: 3, learning_rate: 0.01, Train Recall: 0.8083, Validate Recall: 0.7997, Test Recall: 0.7992\n",
      "max_depth: 5, scale_pos_weight: 3, learning_rate: 0.05, Train Recall: 0.8339, Validate Recall: 0.8082, Test Recall: 0.8201\n",
      "max_depth: 5, scale_pos_weight: 5, learning_rate: 0.1, Train Recall: 0.9838, Validate Recall: 0.9684, Test Recall: 0.9695\n",
      "max_depth: 5, scale_pos_weight: 5, learning_rate: 0.01, Train Recall: 0.9871, Validate Recall: 0.9802, Test Recall: 0.9813\n",
      "max_depth: 5, scale_pos_weight: 5, learning_rate: 0.05, Train Recall: 0.9863, Validate Recall: 0.9769, Test Recall: 0.9796\n",
      "max_depth: 6, scale_pos_weight: 1, learning_rate: 0.1, Train Recall: 0.1810, Validate Recall: 0.1607, Test Recall: 0.1731\n",
      "max_depth: 6, scale_pos_weight: 1, learning_rate: 0.01, Train Recall: 0.0923, Validate Recall: 0.0735, Test Recall: 0.0899\n",
      "max_depth: 6, scale_pos_weight: 1, learning_rate: 0.05, Train Recall: 0.1418, Validate Recall: 0.1296, Test Recall: 0.1454\n",
      "max_depth: 6, scale_pos_weight: 3, learning_rate: 0.1, Train Recall: 0.8444, Validate Recall: 0.7724, Test Recall: 0.7851\n",
      "max_depth: 6, scale_pos_weight: 3, learning_rate: 0.01, Train Recall: 0.8139, Validate Recall: 0.7969, Test Recall: 0.8003\n",
      "max_depth: 6, scale_pos_weight: 3, learning_rate: 0.05, Train Recall: 0.8459, Validate Recall: 0.8049, Test Recall: 0.8173\n",
      "max_depth: 6, scale_pos_weight: 5, learning_rate: 0.1, Train Recall: 0.9861, Validate Recall: 0.9548, Test Recall: 0.9604\n",
      "max_depth: 6, scale_pos_weight: 5, learning_rate: 0.01, Train Recall: 0.9881, Validate Recall: 0.9788, Test Recall: 0.9825\n",
      "max_depth: 6, scale_pos_weight: 5, learning_rate: 0.05, Train Recall: 0.9883, Validate Recall: 0.9727, Test Recall: 0.9774\n",
      "max_depth: 7, scale_pos_weight: 1, learning_rate: 0.1, Train Recall: 0.2160, Validate Recall: 0.1824, Test Recall: 0.1929\n",
      "max_depth: 7, scale_pos_weight: 1, learning_rate: 0.01, Train Recall: 0.0960, Validate Recall: 0.0768, Test Recall: 0.0922\n",
      "max_depth: 7, scale_pos_weight: 1, learning_rate: 0.05, Train Recall: 0.1590, Validate Recall: 0.1390, Test Recall: 0.1521\n",
      "max_depth: 7, scale_pos_weight: 3, learning_rate: 0.1, Train Recall: 0.8592, Validate Recall: 0.7446, Test Recall: 0.7675\n",
      "max_depth: 7, scale_pos_weight: 3, learning_rate: 0.01, Train Recall: 0.8255, Validate Recall: 0.7898, Test Recall: 0.7969\n",
      "max_depth: 7, scale_pos_weight: 3, learning_rate: 0.05, Train Recall: 0.8610, Validate Recall: 0.7889, Test Recall: 0.8128\n",
      "max_depth: 7, scale_pos_weight: 5, learning_rate: 0.1, Train Recall: 0.9877, Validate Recall: 0.9439, Test Recall: 0.9463\n",
      "max_depth: 7, scale_pos_weight: 5, learning_rate: 0.01, Train Recall: 0.9899, Validate Recall: 0.9760, Test Recall: 0.9796\n",
      "max_depth: 7, scale_pos_weight: 5, learning_rate: 0.05, Train Recall: 0.9907, Validate Recall: 0.9703, Test Recall: 0.9717\n",
      "max_depth: 8, scale_pos_weight: 1, learning_rate: 0.1, Train Recall: 0.2523, Validate Recall: 0.1975, Test Recall: 0.2093\n",
      "max_depth: 8, scale_pos_weight: 1, learning_rate: 0.01, Train Recall: 0.1057, Validate Recall: 0.0877, Test Recall: 0.0984\n",
      "max_depth: 8, scale_pos_weight: 1, learning_rate: 0.05, Train Recall: 0.1816, Validate Recall: 0.1560, Test Recall: 0.1652\n",
      "max_depth: 8, scale_pos_weight: 3, learning_rate: 0.1, Train Recall: 0.8711, Validate Recall: 0.7356, Test Recall: 0.7534\n"
     ]
    },
    {
     "name": "stdout",
     "output_type": "stream",
     "text": [
      "max_depth: 8, scale_pos_weight: 3, learning_rate: 0.01, Train Recall: 0.8477, Validate Recall: 0.7983, Test Recall: 0.8043\n",
      "max_depth: 8, scale_pos_weight: 3, learning_rate: 0.05, Train Recall: 0.8733, Validate Recall: 0.7743, Test Recall: 0.8009\n",
      "max_depth: 8, scale_pos_weight: 5, learning_rate: 0.1, Train Recall: 0.9895, Validate Recall: 0.9284, Test Recall: 0.9248\n",
      "max_depth: 8, scale_pos_weight: 5, learning_rate: 0.01, Train Recall: 0.9917, Validate Recall: 0.9713, Test Recall: 0.9762\n",
      "max_depth: 8, scale_pos_weight: 5, learning_rate: 0.05, Train Recall: 0.9915, Validate Recall: 0.9614, Test Recall: 0.9615\n",
      "max_depth: 9, scale_pos_weight: 1, learning_rate: 0.1, Train Recall: 0.2931, Validate Recall: 0.2111, Test Recall: 0.2296\n",
      "max_depth: 9, scale_pos_weight: 1, learning_rate: 0.01, Train Recall: 0.1172, Validate Recall: 0.0947, Test Recall: 0.1058\n",
      "max_depth: 9, scale_pos_weight: 1, learning_rate: 0.05, Train Recall: 0.2117, Validate Recall: 0.1668, Test Recall: 0.1804\n",
      "max_depth: 9, scale_pos_weight: 3, learning_rate: 0.1, Train Recall: 0.8887, Validate Recall: 0.7102, Test Recall: 0.7257\n",
      "max_depth: 9, scale_pos_weight: 3, learning_rate: 0.01, Train Recall: 0.8624, Validate Recall: 0.7879, Test Recall: 0.8015\n",
      "max_depth: 9, scale_pos_weight: 3, learning_rate: 0.05, Train Recall: 0.8861, Validate Recall: 0.7611, Test Recall: 0.7817\n",
      "max_depth: 9, scale_pos_weight: 5, learning_rate: 0.1, Train Recall: 0.9933, Validate Recall: 0.9119, Test Recall: 0.9135\n",
      "max_depth: 9, scale_pos_weight: 5, learning_rate: 0.01, Train Recall: 0.9929, Validate Recall: 0.9604, Test Recall: 0.9649\n",
      "max_depth: 9, scale_pos_weight: 5, learning_rate: 0.05, Train Recall: 0.9954, Validate Recall: 0.9505, Test Recall: 0.9480\n"
     ]
    }
   ],
   "source": [
    "results = xg_boost1(x_train, y_train, x_validate, y_validate, x_test, y_test, max_depth,scale_pos_weight,learning_rate)\n",
    "None"
   ]
  },
  {
   "cell_type": "code",
   "execution_count": null,
   "id": "b0ff594d",
   "metadata": {},
   "outputs": [],
   "source": []
  },
  {
   "cell_type": "code",
   "execution_count": null,
   "id": "5af52dc3",
   "metadata": {},
   "outputs": [],
   "source": []
  },
  {
   "cell_type": "code",
   "execution_count": null,
   "id": "cf97bb48",
   "metadata": {},
   "outputs": [],
   "source": []
  },
  {
   "cell_type": "code",
   "execution_count": 313,
   "id": "482006f6",
   "metadata": {},
   "outputs": [
    {
     "data": {
      "text/plain": [
       "<sklearn.metrics._plot.confusion_matrix.ConfusionMatrixDisplay at 0x7f96c6a61ac0>"
      ]
     },
     "execution_count": 313,
     "metadata": {},
     "output_type": "execute_result"
    },
    {
     "data": {
      "image/png": "[encoded data removed]",
      "text/plain": [
       "<Figure size 640x480 with 2 Axes>"
      ]
     },
     "metadata": {},
     "output_type": "display_data"
    }
   ],
   "source": [
    "plot_confusion_matrix(clf_xgb,\n",
    "                      x_test,\n",
    "                      y_test,\n",
    "                      values_format = 'd',\n",
    "                       display_labels = [ 'Inert','Hazardous'])\n",
    "                      "
   ]
  },
  {
   "cell_type": "code",
   "execution_count": null,
   "id": "150abfab",
   "metadata": {},
   "outputs": [],
   "source": []
  }
 ],
 "metadata": {
  "kernelspec": {
   "display_name": "Python 3 (ipykernel)",
   "language": "python",
   "name": "python3"
  },
  "language_info": {
   "codemirror_mode": {
    "name": "ipython",
    "version": 3
   },
   "file_extension": ".py",
   "mimetype": "text/x-python",
   "name": "python",
   "nbconvert_exporter": "python",
   "pygments_lexer": "ipython3",
   "version": "3.9.13"
  }
 },
 "nbformat": 4,
 "nbformat_minor": 5
}
